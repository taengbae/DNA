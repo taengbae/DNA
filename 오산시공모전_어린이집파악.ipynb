{
  "nbformat": 4,
  "nbformat_minor": 0,
  "metadata": {
    "colab": {
      "provenance": [],
      "authorship_tag": "ABX9TyPYBBLU6Edzf2lkmEJl5iM+",
      "include_colab_link": true
    },
    "kernelspec": {
      "name": "python3",
      "display_name": "Python 3"
    },
    "language_info": {
      "name": "python"
    }
  },
  "cells": [
    {
      "cell_type": "markdown",
      "metadata": {
        "id": "view-in-github",
        "colab_type": "text"
      },
      "source": [
        "<a href=\"https://colab.research.google.com/github/taengbae/DNA/blob/main/%EC%98%A4%EC%82%B0%EC%8B%9C%EA%B3%B5%EB%AA%A8%EC%A0%84_%EC%96%B4%EB%A6%B0%EC%9D%B4%EC%A7%91%ED%8C%8C%EC%95%85.ipynb\" target=\"_parent\"><img src=\"https://colab.research.google.com/assets/colab-badge.svg\" alt=\"Open In Colab\"/></a>"
      ]
    },
    {
      "cell_type": "code",
      "metadata": {
        "colab": {
          "base_uri": "https://localhost:8080/"
        },
        "id": "rCZp4ZdVwWX3",
        "outputId": "eae8ddc0-743c-4964-e8d5-f29fc6a115aa"
      },
      "source": [
        "from google.colab import drive\n",
        "drive.mount('/content/drive')"
      ],
      "execution_count": null,
      "outputs": [
        {
          "output_type": "stream",
          "name": "stdout",
          "text": [
            "Mounted at /content/drive\n"
          ]
        }
      ]
    },
    {
      "cell_type": "code",
      "metadata": {
        "colab": {
          "base_uri": "https://localhost:8080/"
        },
        "id": "u_AlW3mLwbrl",
        "outputId": "e89010d4-1aef-4133-fd8f-84778ee945c3"
      },
      "source": [
        "!pip install plotly"
      ],
      "execution_count": null,
      "outputs": [
        {
          "output_type": "stream",
          "name": "stdout",
          "text": [
            "Requirement already satisfied: plotly in /usr/local/lib/python3.7/dist-packages (4.4.1)\n",
            "Requirement already satisfied: retrying>=1.3.3 in /usr/local/lib/python3.7/dist-packages (from plotly) (1.3.3)\n",
            "Requirement already satisfied: six in /usr/local/lib/python3.7/dist-packages (from plotly) (1.15.0)\n"
          ]
        }
      ]
    },
    {
      "cell_type": "code",
      "metadata": {
        "colab": {
          "base_uri": "https://localhost:8080/"
        },
        "id": "P8ZLmcdyweMx",
        "outputId": "b2b397db-8d20-4f3c-ab8f-d601c227e498"
      },
      "source": [
        "!sudo apt-get install -y fonts-nanum\n",
        "!sudo fc-cache -fv\n",
        "!rm ~/.cache/matplotlib -rf"
      ],
      "execution_count": null,
      "outputs": [
        {
          "output_type": "stream",
          "name": "stdout",
          "text": [
            "Reading package lists... Done\n",
            "Building dependency tree       \n",
            "Reading state information... Done\n",
            "fonts-nanum is already the newest version (20170925-1).\n",
            "0 upgraded, 0 newly installed, 0 to remove and 40 not upgraded.\n",
            "/usr/share/fonts: caching, new cache contents: 0 fonts, 1 dirs\n",
            "/usr/share/fonts/truetype: caching, new cache contents: 0 fonts, 3 dirs\n",
            "/usr/share/fonts/truetype/humor-sans: caching, new cache contents: 1 fonts, 0 dirs\n",
            "/usr/share/fonts/truetype/liberation: caching, new cache contents: 16 fonts, 0 dirs\n",
            "/usr/share/fonts/truetype/nanum: caching, new cache contents: 10 fonts, 0 dirs\n",
            "/usr/local/share/fonts: caching, new cache contents: 0 fonts, 0 dirs\n",
            "/root/.local/share/fonts: skipping, no such directory\n",
            "/root/.fonts: skipping, no such directory\n",
            "/var/cache/fontconfig: cleaning cache directory\n",
            "/root/.cache/fontconfig: not cleaning non-existent cache directory\n",
            "/root/.fontconfig: not cleaning non-existent cache directory\n",
            "fc-cache: succeeded\n"
          ]
        }
      ]
    },
    {
      "cell_type": "code",
      "metadata": {
        "id": "J4kiW2F3werv"
      },
      "source": [
        "import pandas as pd\n",
        "from pandas import DataFrame\n",
        "import numpy as np\n",
        "import matplotlib.pyplot as plt\n",
        "import seaborn as sns\n",
        "import plotly.express as px\n",
        "import matplotlib.font_manager as fm\n",
        "plt.rc('font', family='NanumBarunGothic')"
      ],
      "execution_count": null,
      "outputs": []
    },
    {
      "cell_type": "code",
      "metadata": {
        "id": "Oy-cA_fvwjQD"
      },
      "source": [
        "어린이집현황 = '/content/drive/MyDrive/Colab Notebooks/data/어린이집현황(개방표준).csv'\n",
        "data = pd.read_csv(어린이집현황, encoding='cp949') #숫자변환 x\n",
        "data_k = pd.read_csv(어린이집현황, encoding='cp949') #숫자변환 o"
      ],
      "execution_count": null,
      "outputs": []
    },
    {
      "cell_type": "code",
      "metadata": {
        "id": "gTuxG0y0tlYH"
      },
      "source": [
        "#날짜 변경\n",
        "data['데이터기준일자'] = pd.to_datetime(data['데이터기준일자'])"
      ],
      "execution_count": null,
      "outputs": []
    },
    {
      "cell_type": "code",
      "metadata": {
        "id": "Qm936kQ5YoHX"
      },
      "source": [
        "data_k['어린이집유형구분'] = data_k['어린이집유형구분'].map({'민간':0, '가정':1, '직장':2, '법인·단체':3, '국공립':4, '사회복지법인':5})\n",
        "data_k['통학차량운영여부'] = data_k['통학차량운영여부'].map({'Y':0, 'N':1})"
      ],
      "execution_count": null,
      "outputs": []
    },
    {
      "cell_type": "code",
      "metadata": {
        "colab": {
          "base_uri": "https://localhost:8080/",
          "height": 302
        },
        "id": "5bpDA-dZrXpf",
        "outputId": "532ee71f-fe5e-4b4c-cb1c-77785815e729"
      },
      "source": [
        "data.head()"
      ],
      "execution_count": null,
      "outputs": [
        {
          "output_type": "execute_result",
          "data": {
            "text/html": [
              "<div>\n",
              "<style scoped>\n",
              "    .dataframe tbody tr th:only-of-type {\n",
              "        vertical-align: middle;\n",
              "    }\n",
              "\n",
              "    .dataframe tbody tr th {\n",
              "        vertical-align: top;\n",
              "    }\n",
              "\n",
              "    .dataframe thead th {\n",
              "        text-align: right;\n",
              "    }\n",
              "</style>\n",
              "<table border=\"1\" class=\"dataframe\">\n",
              "  <thead>\n",
              "    <tr style=\"text-align: right;\">\n",
              "      <th></th>\n",
              "      <th>어린이집명</th>\n",
              "      <th>시도명</th>\n",
              "      <th>시군구명</th>\n",
              "      <th>어린이집유형구분</th>\n",
              "      <th>정원수</th>\n",
              "      <th>보육교직원수</th>\n",
              "      <th>소재지도로명주소</th>\n",
              "      <th>어린이집전화번호</th>\n",
              "      <th>어린이집팩스번호</th>\n",
              "      <th>보육실수</th>\n",
              "      <th>놀이터수</th>\n",
              "      <th>CCTV설치수</th>\n",
              "      <th>통학차량운영여부</th>\n",
              "      <th>홈페이지주소</th>\n",
              "      <th>데이터기준일자</th>\n",
              "    </tr>\n",
              "  </thead>\n",
              "  <tbody>\n",
              "    <tr>\n",
              "      <th>0</th>\n",
              "      <td>홍익어린이집</td>\n",
              "      <td>경기도</td>\n",
              "      <td>가평군</td>\n",
              "      <td>민간</td>\n",
              "      <td>98</td>\n",
              "      <td>17.0</td>\n",
              "      <td>경기도 가평군 가평읍 석봉로153번길 16</td>\n",
              "      <td>031-581-2662</td>\n",
              "      <td>031-581-2662</td>\n",
              "      <td>98.0</td>\n",
              "      <td>17.0</td>\n",
              "      <td>13.0</td>\n",
              "      <td>Y</td>\n",
              "      <td>http://www.childcare.go.kr/</td>\n",
              "      <td>2021-06-28</td>\n",
              "    </tr>\n",
              "    <tr>\n",
              "      <th>1</th>\n",
              "      <td>에코비어린이집</td>\n",
              "      <td>경기도</td>\n",
              "      <td>가평군</td>\n",
              "      <td>민간</td>\n",
              "      <td>34</td>\n",
              "      <td>7.0</td>\n",
              "      <td>경기도 가평군 조종면 청군로 1300 에코비어린이집</td>\n",
              "      <td>031-585-4834</td>\n",
              "      <td>031-585-4834</td>\n",
              "      <td>34.0</td>\n",
              "      <td>7.0</td>\n",
              "      <td>5.0</td>\n",
              "      <td>Y</td>\n",
              "      <td>http://www.childcare.go.kr/</td>\n",
              "      <td>2021-06-28</td>\n",
              "    </tr>\n",
              "    <tr>\n",
              "      <th>2</th>\n",
              "      <td>꿈에그린어린이집</td>\n",
              "      <td>경기도</td>\n",
              "      <td>가평군</td>\n",
              "      <td>직장</td>\n",
              "      <td>30</td>\n",
              "      <td>7.0</td>\n",
              "      <td>경기도 가평군 조종면 청군로 1149 꿈에그린어린이집</td>\n",
              "      <td>031-585-1002</td>\n",
              "      <td>031-585-1002</td>\n",
              "      <td>30.0</td>\n",
              "      <td>7.0</td>\n",
              "      <td>10.0</td>\n",
              "      <td>N</td>\n",
              "      <td>http://www.childcare.go.kr/</td>\n",
              "      <td>2021-06-28</td>\n",
              "    </tr>\n",
              "    <tr>\n",
              "      <th>3</th>\n",
              "      <td>맹호어린이집</td>\n",
              "      <td>경기도</td>\n",
              "      <td>가평군</td>\n",
              "      <td>직장</td>\n",
              "      <td>73</td>\n",
              "      <td>10.0</td>\n",
              "      <td>경기도 가평군 조종면 청군로 1208 맹호어린이집</td>\n",
              "      <td>031-585-1133</td>\n",
              "      <td>031-585-1133</td>\n",
              "      <td>73.0</td>\n",
              "      <td>10.0</td>\n",
              "      <td>8.0</td>\n",
              "      <td>N</td>\n",
              "      <td>http://www.childcare.go.kr/</td>\n",
              "      <td>2021-06-28</td>\n",
              "    </tr>\n",
              "    <tr>\n",
              "      <th>4</th>\n",
              "      <td>에코비해솔어린이집</td>\n",
              "      <td>경기도</td>\n",
              "      <td>가평군</td>\n",
              "      <td>가정</td>\n",
              "      <td>20</td>\n",
              "      <td>6.0</td>\n",
              "      <td>경기도 가평군 가화로 223 파란채아파트  103-105</td>\n",
              "      <td>031-581-1137</td>\n",
              "      <td>031-581-1137</td>\n",
              "      <td>20.0</td>\n",
              "      <td>6.0</td>\n",
              "      <td>4.0</td>\n",
              "      <td>Y</td>\n",
              "      <td>http://www.childcare.go.kr/</td>\n",
              "      <td>2021-06-28</td>\n",
              "    </tr>\n",
              "  </tbody>\n",
              "</table>\n",
              "</div>"
            ],
            "text/plain": [
              "       어린이집명  시도명 시군구명  ... 통학차량운영여부                       홈페이지주소    데이터기준일자\n",
              "0     홍익어린이집  경기도  가평군  ...        Y  http://www.childcare.go.kr/ 2021-06-28\n",
              "1    에코비어린이집  경기도  가평군  ...        Y  http://www.childcare.go.kr/ 2021-06-28\n",
              "2   꿈에그린어린이집  경기도  가평군  ...        N  http://www.childcare.go.kr/ 2021-06-28\n",
              "3     맹호어린이집  경기도  가평군  ...        N  http://www.childcare.go.kr/ 2021-06-28\n",
              "4  에코비해솔어린이집  경기도  가평군  ...        Y  http://www.childcare.go.kr/ 2021-06-28\n",
              "\n",
              "[5 rows x 15 columns]"
            ]
          },
          "metadata": {},
          "execution_count": 19
        }
      ]
    },
    {
      "cell_type": "code",
      "metadata": {
        "colab": {
          "base_uri": "https://localhost:8080/"
        },
        "id": "tPM1bR7J1cKF",
        "outputId": "4549591e-3165-4327-ff81-e0d6d0d33bca"
      },
      "source": [
        "data.info()"
      ],
      "execution_count": null,
      "outputs": [
        {
          "output_type": "stream",
          "name": "stdout",
          "text": [
            "<class 'pandas.core.frame.DataFrame'>\n",
            "RangeIndex: 11551 entries, 0 to 11550\n",
            "Data columns (total 15 columns):\n",
            " #   Column    Non-Null Count  Dtype         \n",
            "---  ------    --------------  -----         \n",
            " 0   어린이집명     11551 non-null  object        \n",
            " 1   시도명       11551 non-null  object        \n",
            " 2   시군구명      11551 non-null  object        \n",
            " 3   어린이집유형구분  11551 non-null  object        \n",
            " 4   정원수       11551 non-null  int64         \n",
            " 5   보육교직원수    10813 non-null  float64       \n",
            " 6   소재지도로명주소  11551 non-null  object        \n",
            " 7   어린이집전화번호  11551 non-null  object        \n",
            " 8   어린이집팩스번호  5974 non-null   object        \n",
            " 9   보육실수      6874 non-null   float64       \n",
            " 10  놀이터수      5543 non-null   float64       \n",
            " 11  CCTV설치수   7202 non-null   float64       \n",
            " 12  통학차량운영여부  8941 non-null   object        \n",
            " 13  홈페이지주소    2019 non-null   object        \n",
            " 14  데이터기준일자   11551 non-null  datetime64[ns]\n",
            "dtypes: datetime64[ns](1), float64(4), int64(1), object(9)\n",
            "memory usage: 1.3+ MB\n"
          ]
        }
      ]
    },
    {
      "cell_type": "code",
      "metadata": {
        "colab": {
          "base_uri": "https://localhost:8080/"
        },
        "id": "c1jnyj1xzVy6",
        "outputId": "a11e6fa5-2d63-4342-8c40-6e2b1642641d"
      },
      "source": [
        "#결측치 확인\n",
        "data.isnull().sum()"
      ],
      "execution_count": null,
      "outputs": [
        {
          "output_type": "execute_result",
          "data": {
            "text/plain": [
              "어린이집명          0\n",
              "시도명            0\n",
              "시군구명           0\n",
              "어린이집유형구분       0\n",
              "정원수            0\n",
              "보육교직원수       738\n",
              "소재지도로명주소       0\n",
              "어린이집전화번호       0\n",
              "어린이집팩스번호    5577\n",
              "보육실수        4677\n",
              "놀이터수        6008\n",
              "CCTV설치수     4349\n",
              "통학차량운영여부    2610\n",
              "홈페이지주소      9532\n",
              "데이터기준일자        0\n",
              "dtype: int64"
            ]
          },
          "metadata": {},
          "execution_count": 21
        }
      ]
    },
    {
      "cell_type": "code",
      "metadata": {
        "colab": {
          "base_uri": "https://localhost:8080/",
          "height": 302
        },
        "id": "l9a9zMGfwzAg",
        "outputId": "6b5de557-fb7b-409f-f950-53f8fc11d94a"
      },
      "source": [
        "#오산시 어린이집 수 추이\n",
        "osan = data[data['시군구명'] == '오산시']\n",
        "osan.head()"
      ],
      "execution_count": null,
      "outputs": [
        {
          "output_type": "execute_result",
          "data": {
            "text/html": [
              "<div>\n",
              "<style scoped>\n",
              "    .dataframe tbody tr th:only-of-type {\n",
              "        vertical-align: middle;\n",
              "    }\n",
              "\n",
              "    .dataframe tbody tr th {\n",
              "        vertical-align: top;\n",
              "    }\n",
              "\n",
              "    .dataframe thead th {\n",
              "        text-align: right;\n",
              "    }\n",
              "</style>\n",
              "<table border=\"1\" class=\"dataframe\">\n",
              "  <thead>\n",
              "    <tr style=\"text-align: right;\">\n",
              "      <th></th>\n",
              "      <th>어린이집명</th>\n",
              "      <th>시도명</th>\n",
              "      <th>시군구명</th>\n",
              "      <th>어린이집유형구분</th>\n",
              "      <th>정원수</th>\n",
              "      <th>보육교직원수</th>\n",
              "      <th>소재지도로명주소</th>\n",
              "      <th>어린이집전화번호</th>\n",
              "      <th>어린이집팩스번호</th>\n",
              "      <th>보육실수</th>\n",
              "      <th>놀이터수</th>\n",
              "      <th>CCTV설치수</th>\n",
              "      <th>통학차량운영여부</th>\n",
              "      <th>홈페이지주소</th>\n",
              "      <th>데이터기준일자</th>\n",
              "    </tr>\n",
              "  </thead>\n",
              "  <tbody>\n",
              "    <tr>\n",
              "      <th>7754</th>\n",
              "      <td>휴튼사과나무어린이집</td>\n",
              "      <td>경기도</td>\n",
              "      <td>오산시</td>\n",
              "      <td>가정</td>\n",
              "      <td>20</td>\n",
              "      <td>5.0</td>\n",
              "      <td>경기도 오산시 수청로 165 905동 104호(금암동,죽미마을휴먼시아휴튼아파트)</td>\n",
              "      <td>031-376-6203</td>\n",
              "      <td>031-376-6203</td>\n",
              "      <td>3.0</td>\n",
              "      <td>0.0</td>\n",
              "      <td>4.0</td>\n",
              "      <td>N</td>\n",
              "      <td>NaN</td>\n",
              "      <td>2020-05-01</td>\n",
              "    </tr>\n",
              "    <tr>\n",
              "      <th>7755</th>\n",
              "      <td>코코가베어린이집</td>\n",
              "      <td>경기도</td>\n",
              "      <td>오산시</td>\n",
              "      <td>가정</td>\n",
              "      <td>20</td>\n",
              "      <td>6.0</td>\n",
              "      <td>경기도 오산시 운암로 63 104동 102호(오산동, 현대아파트)</td>\n",
              "      <td>031-373-5928</td>\n",
              "      <td>031-373-5928</td>\n",
              "      <td>3.0</td>\n",
              "      <td>0.0</td>\n",
              "      <td>4.0</td>\n",
              "      <td>N</td>\n",
              "      <td>NaN</td>\n",
              "      <td>2020-05-01</td>\n",
              "    </tr>\n",
              "    <tr>\n",
              "      <th>7756</th>\n",
              "      <td>큰사랑어린이집</td>\n",
              "      <td>경기도</td>\n",
              "      <td>오산시</td>\n",
              "      <td>가정</td>\n",
              "      <td>20</td>\n",
              "      <td>6.0</td>\n",
              "      <td>경기도 오산시 운암로 89 204동 101호(오산동, 운암주공2단지아파트)</td>\n",
              "      <td>031-375-1423</td>\n",
              "      <td>031-375-1423</td>\n",
              "      <td>4.0</td>\n",
              "      <td>0.0</td>\n",
              "      <td>4.0</td>\n",
              "      <td>N</td>\n",
              "      <td>NaN</td>\n",
              "      <td>2020-05-01</td>\n",
              "    </tr>\n",
              "    <tr>\n",
              "      <th>7757</th>\n",
              "      <td>키즈맘어린이집</td>\n",
              "      <td>경기도</td>\n",
              "      <td>오산시</td>\n",
              "      <td>가정</td>\n",
              "      <td>20</td>\n",
              "      <td>6.0</td>\n",
              "      <td>경기도 오산시 누읍로46번길 25 (누읍동)</td>\n",
              "      <td>031-372-2050</td>\n",
              "      <td>NaN</td>\n",
              "      <td>3.0</td>\n",
              "      <td>0.0</td>\n",
              "      <td>4.0</td>\n",
              "      <td>N</td>\n",
              "      <td>NaN</td>\n",
              "      <td>2020-05-01</td>\n",
              "    </tr>\n",
              "    <tr>\n",
              "      <th>7758</th>\n",
              "      <td>키즈청호어린이집</td>\n",
              "      <td>경기도</td>\n",
              "      <td>오산시</td>\n",
              "      <td>민간</td>\n",
              "      <td>138</td>\n",
              "      <td>18.0</td>\n",
              "      <td>경기도 오산시 남부대로441번길 17-1</td>\n",
              "      <td>031-668-5557</td>\n",
              "      <td>031-611-3558</td>\n",
              "      <td>10.0</td>\n",
              "      <td>2.0</td>\n",
              "      <td>16.0</td>\n",
              "      <td>Y</td>\n",
              "      <td>NaN</td>\n",
              "      <td>2020-05-01</td>\n",
              "    </tr>\n",
              "  </tbody>\n",
              "</table>\n",
              "</div>"
            ],
            "text/plain": [
              "           어린이집명  시도명 시군구명 어린이집유형구분  ...  CCTV설치수  통학차량운영여부 홈페이지주소    데이터기준일자\n",
              "7754  휴튼사과나무어린이집  경기도  오산시       가정  ...      4.0         N    NaN 2020-05-01\n",
              "7755    코코가베어린이집  경기도  오산시       가정  ...      4.0         N    NaN 2020-05-01\n",
              "7756     큰사랑어린이집  경기도  오산시       가정  ...      4.0         N    NaN 2020-05-01\n",
              "7757     키즈맘어린이집  경기도  오산시       가정  ...      4.0         N    NaN 2020-05-01\n",
              "7758    키즈청호어린이집  경기도  오산시       민간  ...     16.0         Y    NaN 2020-05-01\n",
              "\n",
              "[5 rows x 15 columns]"
            ]
          },
          "metadata": {},
          "execution_count": 26
        }
      ]
    },
    {
      "cell_type": "code",
      "metadata": {
        "id": "uzJOGQ9pd8Xu",
        "outputId": "7ed0b903-0c3a-4f0f-9aa0-cc4bcbfe6245",
        "colab": {
          "base_uri": "https://localhost:8080/",
          "height": 597
        }
      },
      "source": [
        "osan"
      ],
      "execution_count": null,
      "outputs": [
        {
          "output_type": "execute_result",
          "data": {
            "text/html": [
              "<div>\n",
              "<style scoped>\n",
              "    .dataframe tbody tr th:only-of-type {\n",
              "        vertical-align: middle;\n",
              "    }\n",
              "\n",
              "    .dataframe tbody tr th {\n",
              "        vertical-align: top;\n",
              "    }\n",
              "\n",
              "    .dataframe thead th {\n",
              "        text-align: right;\n",
              "    }\n",
              "</style>\n",
              "<table border=\"1\" class=\"dataframe\">\n",
              "  <thead>\n",
              "    <tr style=\"text-align: right;\">\n",
              "      <th></th>\n",
              "      <th>어린이집명</th>\n",
              "      <th>시도명</th>\n",
              "      <th>시군구명</th>\n",
              "      <th>어린이집유형구분</th>\n",
              "      <th>정원수</th>\n",
              "      <th>보육교직원수</th>\n",
              "      <th>소재지도로명주소</th>\n",
              "      <th>어린이집전화번호</th>\n",
              "      <th>어린이집팩스번호</th>\n",
              "      <th>보육실수</th>\n",
              "      <th>놀이터수</th>\n",
              "      <th>CCTV설치수</th>\n",
              "      <th>통학차량운영여부</th>\n",
              "      <th>홈페이지주소</th>\n",
              "      <th>데이터기준일자</th>\n",
              "    </tr>\n",
              "  </thead>\n",
              "  <tbody>\n",
              "    <tr>\n",
              "      <th>7754</th>\n",
              "      <td>휴튼사과나무어린이집</td>\n",
              "      <td>경기도</td>\n",
              "      <td>오산시</td>\n",
              "      <td>가정</td>\n",
              "      <td>20</td>\n",
              "      <td>5.0</td>\n",
              "      <td>경기도 오산시 수청로 165 905동 104호(금암동,죽미마을휴먼시아휴튼아파트)</td>\n",
              "      <td>031-376-6203</td>\n",
              "      <td>031-376-6203</td>\n",
              "      <td>3.0</td>\n",
              "      <td>0.0</td>\n",
              "      <td>4.0</td>\n",
              "      <td>N</td>\n",
              "      <td>NaN</td>\n",
              "      <td>2020-05-01</td>\n",
              "    </tr>\n",
              "    <tr>\n",
              "      <th>7755</th>\n",
              "      <td>코코가베어린이집</td>\n",
              "      <td>경기도</td>\n",
              "      <td>오산시</td>\n",
              "      <td>가정</td>\n",
              "      <td>20</td>\n",
              "      <td>6.0</td>\n",
              "      <td>경기도 오산시 운암로 63 104동 102호(오산동, 현대아파트)</td>\n",
              "      <td>031-373-5928</td>\n",
              "      <td>031-373-5928</td>\n",
              "      <td>3.0</td>\n",
              "      <td>0.0</td>\n",
              "      <td>4.0</td>\n",
              "      <td>N</td>\n",
              "      <td>NaN</td>\n",
              "      <td>2020-05-01</td>\n",
              "    </tr>\n",
              "    <tr>\n",
              "      <th>7756</th>\n",
              "      <td>큰사랑어린이집</td>\n",
              "      <td>경기도</td>\n",
              "      <td>오산시</td>\n",
              "      <td>가정</td>\n",
              "      <td>20</td>\n",
              "      <td>6.0</td>\n",
              "      <td>경기도 오산시 운암로 89 204동 101호(오산동, 운암주공2단지아파트)</td>\n",
              "      <td>031-375-1423</td>\n",
              "      <td>031-375-1423</td>\n",
              "      <td>4.0</td>\n",
              "      <td>0.0</td>\n",
              "      <td>4.0</td>\n",
              "      <td>N</td>\n",
              "      <td>NaN</td>\n",
              "      <td>2020-05-01</td>\n",
              "    </tr>\n",
              "    <tr>\n",
              "      <th>7757</th>\n",
              "      <td>키즈맘어린이집</td>\n",
              "      <td>경기도</td>\n",
              "      <td>오산시</td>\n",
              "      <td>가정</td>\n",
              "      <td>20</td>\n",
              "      <td>6.0</td>\n",
              "      <td>경기도 오산시 누읍로46번길 25 (누읍동)</td>\n",
              "      <td>031-372-2050</td>\n",
              "      <td>NaN</td>\n",
              "      <td>3.0</td>\n",
              "      <td>0.0</td>\n",
              "      <td>4.0</td>\n",
              "      <td>N</td>\n",
              "      <td>NaN</td>\n",
              "      <td>2020-05-01</td>\n",
              "    </tr>\n",
              "    <tr>\n",
              "      <th>7758</th>\n",
              "      <td>키즈청호어린이집</td>\n",
              "      <td>경기도</td>\n",
              "      <td>오산시</td>\n",
              "      <td>민간</td>\n",
              "      <td>138</td>\n",
              "      <td>18.0</td>\n",
              "      <td>경기도 오산시 남부대로441번길 17-1</td>\n",
              "      <td>031-668-5557</td>\n",
              "      <td>031-611-3558</td>\n",
              "      <td>10.0</td>\n",
              "      <td>2.0</td>\n",
              "      <td>16.0</td>\n",
              "      <td>Y</td>\n",
              "      <td>NaN</td>\n",
              "      <td>2020-05-01</td>\n",
              "    </tr>\n",
              "    <tr>\n",
              "      <th>...</th>\n",
              "      <td>...</td>\n",
              "      <td>...</td>\n",
              "      <td>...</td>\n",
              "      <td>...</td>\n",
              "      <td>...</td>\n",
              "      <td>...</td>\n",
              "      <td>...</td>\n",
              "      <td>...</td>\n",
              "      <td>...</td>\n",
              "      <td>...</td>\n",
              "      <td>...</td>\n",
              "      <td>...</td>\n",
              "      <td>...</td>\n",
              "      <td>...</td>\n",
              "      <td>...</td>\n",
              "    </tr>\n",
              "    <tr>\n",
              "      <th>8006</th>\n",
              "      <td>로뎀어린이집</td>\n",
              "      <td>경기도</td>\n",
              "      <td>오산시</td>\n",
              "      <td>사회복지법인</td>\n",
              "      <td>43</td>\n",
              "      <td>19.0</td>\n",
              "      <td>경기도 오산시 은여울로17번길 5 (궐동)</td>\n",
              "      <td>031-378-9449</td>\n",
              "      <td>031-378-9446</td>\n",
              "      <td>4.0</td>\n",
              "      <td>0.0</td>\n",
              "      <td>9.0</td>\n",
              "      <td>Y</td>\n",
              "      <td>www.rodemchild.or.kr</td>\n",
              "      <td>2020-05-01</td>\n",
              "    </tr>\n",
              "    <tr>\n",
              "      <th>8007</th>\n",
              "      <td>리틀랜드어린이집</td>\n",
              "      <td>경기도</td>\n",
              "      <td>오산시</td>\n",
              "      <td>가정</td>\n",
              "      <td>20</td>\n",
              "      <td>7.0</td>\n",
              "      <td>경기도 오산시 누읍로 17 102동 101호(누읍동, 한라그린타운아파트)</td>\n",
              "      <td>031-373-8964</td>\n",
              "      <td>031-373-8964</td>\n",
              "      <td>3.0</td>\n",
              "      <td>0.0</td>\n",
              "      <td>4.0</td>\n",
              "      <td>N</td>\n",
              "      <td>NaN</td>\n",
              "      <td>2020-05-01</td>\n",
              "    </tr>\n",
              "    <tr>\n",
              "      <th>8008</th>\n",
              "      <td>리틀예지어린이집</td>\n",
              "      <td>경기도</td>\n",
              "      <td>오산시</td>\n",
              "      <td>가정</td>\n",
              "      <td>19</td>\n",
              "      <td>6.0</td>\n",
              "      <td>경기도 오산시 동부대로 407-10 103동 101호(원동, 태영)</td>\n",
              "      <td>031-373-6419</td>\n",
              "      <td>031-373-6419</td>\n",
              "      <td>4.0</td>\n",
              "      <td>0.0</td>\n",
              "      <td>4.0</td>\n",
              "      <td>N</td>\n",
              "      <td>NaN</td>\n",
              "      <td>2020-05-01</td>\n",
              "    </tr>\n",
              "    <tr>\n",
              "      <th>8009</th>\n",
              "      <td>무지개어린이집</td>\n",
              "      <td>경기도</td>\n",
              "      <td>오산시</td>\n",
              "      <td>가정</td>\n",
              "      <td>16</td>\n",
              "      <td>7.0</td>\n",
              "      <td>경기도 오산시 운암로 90 316동 101호(부산동, 운암주공3단지아파트)</td>\n",
              "      <td>031-375-4706</td>\n",
              "      <td>NaN</td>\n",
              "      <td>3.0</td>\n",
              "      <td>0.0</td>\n",
              "      <td>4.0</td>\n",
              "      <td>N</td>\n",
              "      <td>NaN</td>\n",
              "      <td>2020-05-01</td>\n",
              "    </tr>\n",
              "    <tr>\n",
              "      <th>8010</th>\n",
              "      <td>물향기어린이집</td>\n",
              "      <td>경기도</td>\n",
              "      <td>오산시</td>\n",
              "      <td>민간</td>\n",
              "      <td>35</td>\n",
              "      <td>7.0</td>\n",
              "      <td>경기도 오산시 운암로 89 관리동 (오산동, 운암주공2단지)</td>\n",
              "      <td>031-376-3023</td>\n",
              "      <td>0504-065-2581</td>\n",
              "      <td>4.0</td>\n",
              "      <td>0.0</td>\n",
              "      <td>4.0</td>\n",
              "      <td>N</td>\n",
              "      <td>NaN</td>\n",
              "      <td>2020-05-01</td>\n",
              "    </tr>\n",
              "  </tbody>\n",
              "</table>\n",
              "<p>257 rows × 15 columns</p>\n",
              "</div>"
            ],
            "text/plain": [
              "           어린이집명  시도명 시군구명  ... 통학차량운영여부                홈페이지주소    데이터기준일자\n",
              "7754  휴튼사과나무어린이집  경기도  오산시  ...        N                   NaN 2020-05-01\n",
              "7755    코코가베어린이집  경기도  오산시  ...        N                   NaN 2020-05-01\n",
              "7756     큰사랑어린이집  경기도  오산시  ...        N                   NaN 2020-05-01\n",
              "7757     키즈맘어린이집  경기도  오산시  ...        N                   NaN 2020-05-01\n",
              "7758    키즈청호어린이집  경기도  오산시  ...        Y                   NaN 2020-05-01\n",
              "...          ...  ...  ...  ...      ...                   ...        ...\n",
              "8006      로뎀어린이집  경기도  오산시  ...        Y  www.rodemchild.or.kr 2020-05-01\n",
              "8007    리틀랜드어린이집  경기도  오산시  ...        N                   NaN 2020-05-01\n",
              "8008    리틀예지어린이집  경기도  오산시  ...        N                   NaN 2020-05-01\n",
              "8009     무지개어린이집  경기도  오산시  ...        N                   NaN 2020-05-01\n",
              "8010     물향기어린이집  경기도  오산시  ...        N                   NaN 2020-05-01\n",
              "\n",
              "[257 rows x 15 columns]"
            ]
          },
          "metadata": {},
          "execution_count": 60
        }
      ]
    },
    {
      "cell_type": "code",
      "metadata": {
        "id": "jhP0Pybc8JHv"
      },
      "source": [
        "g4= data_k.groupby(\"데이터기준일자\")['어린이집명'].count()"
      ],
      "execution_count": null,
      "outputs": []
    },
    {
      "cell_type": "code",
      "metadata": {
        "id": "sZ4LRJFJ8gba"
      },
      "source": [
        "g3= data.groupby(\"데이터기준일자\")['어린이집명'].count()"
      ],
      "execution_count": null,
      "outputs": []
    },
    {
      "cell_type": "code",
      "metadata": {
        "colab": {
          "base_uri": "https://localhost:8080/"
        },
        "id": "ph4G2-n6JMTN",
        "outputId": "6941aa43-e356-4d2b-9d07-078ac3eecc4a"
      },
      "source": [
        "g = data.groupby(\"어린이집유형구분\")['어린이집명'].count()\n",
        "g"
      ],
      "execution_count": null,
      "outputs": [
        {
          "output_type": "execute_result",
          "data": {
            "text/plain": [
              "어린이집유형구분\n",
              "가정        6418\n",
              "국공립        912\n",
              "민간        3727\n",
              "법인·단체      113\n",
              "부모협동         6\n",
              "사회복지법인      65\n",
              "직장         253\n",
              "협동          57\n",
              "Name: 어린이집명, dtype: int64"
            ]
          },
          "metadata": {},
          "execution_count": 58
        }
      ]
    },
    {
      "cell_type": "code",
      "metadata": {
        "colab": {
          "base_uri": "https://localhost:8080/",
          "height": 583
        },
        "id": "EXizv7Es3ZYK",
        "outputId": "c728b46a-ce48-49c8-a4b7-08be88d6367f"
      },
      "source": [
        "fig = plt.figure(figsize=(16,8))\n",
        "plt.xticks(rotation =  45 ) #글씨 회전\n",
        "sns.barplot(y=g3.values, x=g3.index)"
      ],
      "execution_count": null,
      "outputs": [
        {
          "output_type": "execute_result",
          "data": {
            "text/plain": [
              "<matplotlib.axes._subplots.AxesSubplot at 0x7fc86865b690>"
            ]
          },
          "metadata": {},
          "execution_count": 53
        },
        {
          "output_type": "display_data",
          "data": {
            "image/png": "[encoded data removed]",
            "text/plain": [
              "<Figure size 1152x576 with 1 Axes>"
            ]
          },
          "metadata": {
            "needs_background": "light"
          }
        }
      ]
    },
    {
      "cell_type": "code",
      "metadata": {
        "colab": {
          "base_uri": "https://localhost:8080/",
          "height": 556
        },
        "id": "wl8iwDI-52WN",
        "outputId": "c899f665-ebbe-4274-f849-79a9bdc4a310"
      },
      "source": [
        "g4= data_k.groupby(\"시군구명\")['데이터기준일자'].count()\n",
        "fig = plt.figure(figsize=(16,8))\n",
        "plt.xticks(rotation =  45 )\n",
        "sns.barplot(y=g4.values, x=g4.index)"
      ],
      "execution_count": null,
      "outputs": [
        {
          "output_type": "execute_result",
          "data": {
            "text/plain": [
              "<matplotlib.axes._subplots.AxesSubplot at 0x7fc868a30c10>"
            ]
          },
          "metadata": {},
          "execution_count": 51
        },
        {
          "output_type": "display_data",
          "data": {
            "image/png": "[encoded data removed]",
            "text/plain": [
              "<Figure size 1152x576 with 1 Axes>"
            ]
          },
          "metadata": {
            "needs_background": "light"
          }
        }
      ]
    },
    {
      "cell_type": "code",
      "metadata": {
        "colab": {
          "base_uri": "https://localhost:8080/",
          "height": 549
        },
        "id": "bLVnvSxRF1v_",
        "outputId": "2e3a379a-70d9-4e4c-e67b-c921bd895996"
      },
      "source": [
        "fig = plt.figure(figsize=(16,8))\n",
        "plt.xticks(rotation =  45 )\n",
        "sns.barplot(y=g.values, x=g.index)"
      ],
      "execution_count": null,
      "outputs": [
        {
          "output_type": "execute_result",
          "data": {
            "text/plain": [
              "<matplotlib.axes._subplots.AxesSubplot at 0x7fc8684d9d90>"
            ]
          },
          "metadata": {},
          "execution_count": 59
        },
        {
          "output_type": "display_data",
          "data": {
            "image/png": "[encoded data removed]",
            "text/plain": [
              "<Figure size 1152x576 with 1 Axes>"
            ]
          },
          "metadata": {
            "needs_background": "light"
          }
        }
      ]
    }
  ]
}