{
  "nbformat": 4,
  "nbformat_minor": 0,
  "metadata": {
    "colab": {
      "provenance": [],
      "authorship_tag": "ABX9TyPjpNC+1WcfE/lBok6N+2v3",
      "include_colab_link": true
    },
    "kernelspec": {
      "name": "python3",
      "display_name": "Python 3"
    },
    "language_info": {
      "name": "python"
    }
  },
  "cells": [
    {
      "cell_type": "markdown",
      "metadata": {
        "id": "view-in-github",
        "colab_type": "text"
      },
      "source": [
        "<a href=\"https://colab.research.google.com/github/taengbae/DNA/blob/main/%EC%95%84%ED%8C%8C%ED%8A%B8%EA%B0%80%EA%B2%A9%EC%98%88%EC%B8%A1EDA_1.ipynb\" target=\"_parent\"><img src=\"https://colab.research.google.com/assets/colab-badge.svg\" alt=\"Open In Colab\"/></a>"
      ]
    },
    {
      "cell_type": "code",
      "metadata": {
        "colab": {
          "base_uri": "https://localhost:8080/"
        },
        "id": "zzVNh284SOCm",
        "outputId": "a45f4124-7fcc-42ca-f7da-b6e40befe309"
      },
      "source": [
        "from google.colab import drive\n",
        "drive.mount('/content/drive')"
      ],
      "execution_count": null,
      "outputs": [
        {
          "output_type": "stream",
          "text": [
            "Mounted at /content/drive\n"
          ],
          "name": "stdout"
        }
      ]
    },
    {
      "cell_type": "code",
      "metadata": {
        "colab": {
          "base_uri": "https://localhost:8080/"
        },
        "id": "Xfq8IiJ1s7Jo",
        "outputId": "20a6d37f-5d36-4cb2-b488-2bbcfa5681f2"
      },
      "source": [
        "!pip install plotly"
      ],
      "execution_count": null,
      "outputs": [
        {
          "output_type": "stream",
          "text": [
            "Requirement already satisfied: plotly in /usr/local/lib/python3.7/dist-packages (4.4.1)\n",
            "Requirement already satisfied: six in /usr/local/lib/python3.7/dist-packages (from plotly) (1.15.0)\n",
            "Requirement already satisfied: retrying>=1.3.3 in /usr/local/lib/python3.7/dist-packages (from plotly) (1.3.3)\n"
          ],
          "name": "stdout"
        }
      ]
    },
    {
      "cell_type": "code",
      "metadata": {
        "colab": {
          "base_uri": "https://localhost:8080/"
        },
        "id": "LdQCtKiVv2uH",
        "outputId": "b865501c-4fa4-44f8-c553-63789f019752"
      },
      "source": [
        "!sudo apt-get install -y fonts-nanum\n",
        "!sudo fc-cache -fv\n",
        "!rm ~/.cache/matplotlib -rf"
      ],
      "execution_count": null,
      "outputs": [
        {
          "output_type": "stream",
          "text": [
            "Reading package lists... Done\n",
            "Building dependency tree       \n",
            "Reading state information... Done\n",
            "The following NEW packages will be installed:\n",
            "  fonts-nanum\n",
            "0 upgraded, 1 newly installed, 0 to remove and 40 not upgraded.\n",
            "Need to get 9,604 kB of archives.\n",
            "After this operation, 29.5 MB of additional disk space will be used.\n",
            "Get:1 http://archive.ubuntu.com/ubuntu bionic/universe amd64 fonts-nanum all 20170925-1 [9,604 kB]\n",
            "Fetched 9,604 kB in 1s (8,608 kB/s)\n",
            "debconf: unable to initialize frontend: Dialog\n",
            "debconf: (No usable dialog-like program is installed, so the dialog based frontend cannot be used. at /usr/share/perl5/Debconf/FrontEnd/Dialog.pm line 76, <> line 1.)\n",
            "debconf: falling back to frontend: Readline\n",
            "debconf: unable to initialize frontend: Readline\n",
            "debconf: (This frontend requires a controlling tty.)\n",
            "debconf: falling back to frontend: Teletype\n",
            "dpkg-preconfigure: unable to re-open stdin: \n",
            "Selecting previously unselected package fonts-nanum.\n",
            "(Reading database ... 160837 files and directories currently installed.)\n",
            "Preparing to unpack .../fonts-nanum_20170925-1_all.deb ...\n",
            "Unpacking fonts-nanum (20170925-1) ...\n",
            "Setting up fonts-nanum (20170925-1) ...\n",
            "Processing triggers for fontconfig (2.12.6-0ubuntu2) ...\n",
            "/usr/share/fonts: caching, new cache contents: 0 fonts, 1 dirs\n",
            "/usr/share/fonts/truetype: caching, new cache contents: 0 fonts, 3 dirs\n",
            "/usr/share/fonts/truetype/humor-sans: caching, new cache contents: 1 fonts, 0 dirs\n",
            "/usr/share/fonts/truetype/liberation: caching, new cache contents: 16 fonts, 0 dirs\n",
            "/usr/share/fonts/truetype/nanum: caching, new cache contents: 10 fonts, 0 dirs\n",
            "/usr/local/share/fonts: caching, new cache contents: 0 fonts, 0 dirs\n",
            "/root/.local/share/fonts: skipping, no such directory\n",
            "/root/.fonts: skipping, no such directory\n",
            "/var/cache/fontconfig: cleaning cache directory\n",
            "/root/.cache/fontconfig: not cleaning non-existent cache directory\n",
            "/root/.fontconfig: not cleaning non-existent cache directory\n",
            "fc-cache: succeeded\n"
          ],
          "name": "stdout"
        }
      ]
    },
    {
      "cell_type": "code",
      "metadata": {
        "id": "rP2ikPZPfrge"
      },
      "source": [
        "import pandas as pd\n",
        "import numpy as np\n",
        "import matplotlib.pyplot as plt\n",
        "import seaborn as sns\n",
        "import plotly.express as px\n",
        "import matplotlib.font_manager as fm\n",
        "plt.rc('font', family='NanumBarunGothic')"
      ],
      "execution_count": null,
      "outputs": []
    },
    {
      "cell_type": "code",
      "metadata": {
        "id": "_C11xF4sd0FM"
      },
      "source": [
        "건축허가현황 = '/content/drive/MyDrive/Colab Notebooks/data/건축허가현황.csv'\n",
        "국내건설수주액 = '/content/drive/MyDrive/Colab Notebooks/data/국내건설수주액.csv'\n",
        "미분양주택현황 = '/content/drive/MyDrive/Colab Notebooks/data/미분양주택현황.csv'\n",
        "아파트실거래가격지수 = '/content/drive/MyDrive/Colab Notebooks/data/아파트 실거래가격지수.csv'\n",
        "주택월세통합가격지수 = '/content/drive/MyDrive/Colab Notebooks/data/유형별_주택월세통합가격지수.csv'\n",
        "주택건설인허가실적 = '/content/drive/MyDrive/Colab Notebooks/data/주택건설인허가실적.csv'\n",
        "주택매매가격지수 = '/content/drive/MyDrive/Colab Notebooks/data/주택매매가격지수(KB).csv'\n",
        "주택전세가격지수 = '/content/drive/MyDrive/Colab Notebooks/data/주택전세가격지수(KB).csv'\n",
        "지가변동률 = '/content/drive/MyDrive/Colab Notebooks/data/지역별_지가변동률.csv'\n",
        "코스피지수 = '/content/drive/MyDrive/Colab Notebooks/data/코스피지수_2012to2021.csv'"
      ],
      "execution_count": null,
      "outputs": []
    },
    {
      "cell_type": "code",
      "metadata": {
        "id": "-2GxKF2oeNqH"
      },
      "source": [
        "data_mae = pd.read_csv(주택매매가격지수)\n",
        "data_jeon = pd.read_csv(주택전세가격지수)\n",
        "data_kospi = pd.read_csv(코스피지수, encoding='cp949')"
      ],
      "execution_count": null,
      "outputs": []
    },
    {
      "cell_type": "code",
      "metadata": {
        "colab": {
          "base_uri": "https://localhost:8080/",
          "height": 204
        },
        "id": "miGGldiGeNON",
        "outputId": "772d55e8-1941-467a-8f0d-079676fab65f"
      },
      "source": [
        "data_mae.head()"
      ],
      "execution_count": null,
      "outputs": [
        {
          "output_type": "execute_result",
          "data": {
            "text/html": [
              "<div>\n",
              "<style scoped>\n",
              "    .dataframe tbody tr th:only-of-type {\n",
              "        vertical-align: middle;\n",
              "    }\n",
              "\n",
              "    .dataframe tbody tr th {\n",
              "        vertical-align: top;\n",
              "    }\n",
              "\n",
              "    .dataframe thead th {\n",
              "        text-align: right;\n",
              "    }\n",
              "</style>\n",
              "<table border=\"1\" class=\"dataframe\">\n",
              "  <thead>\n",
              "    <tr style=\"text-align: right;\">\n",
              "      <th></th>\n",
              "      <th>Unnamed: 0</th>\n",
              "      <th>총지수[2019.01=100]</th>\n",
              "      <th>단독주택[2019.01=100]</th>\n",
              "      <th>연립주택[2019.01=100]</th>\n",
              "      <th>아파트[2019.01=100]</th>\n",
              "      <th>아파트(서울)[2019.01=100]</th>\n",
              "      <th>총지수(서울)[2019.01=100]</th>\n",
              "    </tr>\n",
              "  </thead>\n",
              "  <tbody>\n",
              "    <tr>\n",
              "      <th>0</th>\n",
              "      <td>1986-01-01</td>\n",
              "      <td>34.656</td>\n",
              "      <td>61.347</td>\n",
              "      <td>43.053</td>\n",
              "      <td>20.973</td>\n",
              "      <td>17.153</td>\n",
              "      <td>30.044</td>\n",
              "    </tr>\n",
              "    <tr>\n",
              "      <th>1</th>\n",
              "      <td>1986-02-01</td>\n",
              "      <td>34.656</td>\n",
              "      <td>61.347</td>\n",
              "      <td>42.925</td>\n",
              "      <td>20.973</td>\n",
              "      <td>17.183</td>\n",
              "      <td>30.044</td>\n",
              "    </tr>\n",
              "    <tr>\n",
              "      <th>2</th>\n",
              "      <td>1986-03-01</td>\n",
              "      <td>34.708</td>\n",
              "      <td>61.513</td>\n",
              "      <td>42.733</td>\n",
              "      <td>20.935</td>\n",
              "      <td>17.153</td>\n",
              "      <td>30.002</td>\n",
              "    </tr>\n",
              "    <tr>\n",
              "      <th>3</th>\n",
              "      <td>1986-04-01</td>\n",
              "      <td>34.449</td>\n",
              "      <td>61.097</td>\n",
              "      <td>42.733</td>\n",
              "      <td>20.819</td>\n",
              "      <td>17.034</td>\n",
              "      <td>29.837</td>\n",
              "    </tr>\n",
              "    <tr>\n",
              "      <th>4</th>\n",
              "      <td>1986-05-01</td>\n",
              "      <td>34.293</td>\n",
              "      <td>60.848</td>\n",
              "      <td>41.837</td>\n",
              "      <td>20.664</td>\n",
              "      <td>16.945</td>\n",
              "      <td>29.588</td>\n",
              "    </tr>\n",
              "  </tbody>\n",
              "</table>\n",
              "</div>"
            ],
            "text/plain": [
              "   Unnamed: 0  총지수[2019.01=100]  ...  아파트(서울)[2019.01=100]  총지수(서울)[2019.01=100]\n",
              "0  1986-01-01            34.656  ...                17.153                30.044\n",
              "1  1986-02-01            34.656  ...                17.183                30.044\n",
              "2  1986-03-01            34.708  ...                17.153                30.002\n",
              "3  1986-04-01            34.449  ...                17.034                29.837\n",
              "4  1986-05-01            34.293  ...                16.945                29.588\n",
              "\n",
              "[5 rows x 7 columns]"
            ]
          },
          "metadata": {
            "tags": []
          },
          "execution_count": 5
        }
      ]
    },
    {
      "cell_type": "code",
      "metadata": {
        "colab": {
          "base_uri": "https://localhost:8080/",
          "height": 525
        },
        "id": "9MW_czwpq3iP",
        "outputId": "404648d2-3041-4d25-bf28-e09b5a6a4151"
      },
      "source": [
        "data_kospi.head()"
      ],
      "execution_count": null,
      "outputs": [
        {
          "output_type": "execute_result",
          "data": {
            "text/html": [
              "<div>\n",
              "<style scoped>\n",
              "    .dataframe tbody tr th:only-of-type {\n",
              "        vertical-align: middle;\n",
              "    }\n",
              "\n",
              "    .dataframe tbody tr th {\n",
              "        vertical-align: top;\n",
              "    }\n",
              "\n",
              "    .dataframe thead th {\n",
              "        text-align: right;\n",
              "    }\n",
              "</style>\n",
              "<table border=\"1\" class=\"dataframe\">\n",
              "  <thead>\n",
              "    <tr style=\"text-align: right;\">\n",
              "      <th></th>\n",
              "      <th>주가구분별(1)</th>\n",
              "      <th>주가구분별(2)</th>\n",
              "      <th>주가구분별(3)</th>\n",
              "      <th>2012. 01</th>\n",
              "      <th>2012. 02</th>\n",
              "      <th>2012. 03</th>\n",
              "      <th>2012. 04</th>\n",
              "      <th>2012. 05</th>\n",
              "      <th>2012. 06</th>\n",
              "      <th>2012. 07</th>\n",
              "      <th>2012. 08</th>\n",
              "      <th>2012. 09</th>\n",
              "      <th>2012. 10</th>\n",
              "      <th>2012. 11</th>\n",
              "      <th>2012. 12</th>\n",
              "      <th>2013. 01</th>\n",
              "      <th>2013. 02</th>\n",
              "      <th>2013. 03</th>\n",
              "      <th>2013. 04</th>\n",
              "      <th>2013. 05</th>\n",
              "      <th>2013. 06</th>\n",
              "      <th>2013. 07</th>\n",
              "      <th>2013. 08</th>\n",
              "      <th>2013. 09</th>\n",
              "      <th>2013. 10</th>\n",
              "      <th>2013. 11</th>\n",
              "      <th>2013. 12</th>\n",
              "      <th>2014. 01</th>\n",
              "      <th>2014. 02</th>\n",
              "      <th>2014. 03</th>\n",
              "      <th>2014. 04</th>\n",
              "      <th>2014. 05</th>\n",
              "      <th>2014. 06</th>\n",
              "      <th>2014. 07</th>\n",
              "      <th>2014. 08</th>\n",
              "      <th>2014. 09</th>\n",
              "      <th>2014. 10</th>\n",
              "      <th>2014. 11</th>\n",
              "      <th>2014. 12</th>\n",
              "      <th>2015. 01</th>\n",
              "      <th>...</th>\n",
              "      <th>2018. 03</th>\n",
              "      <th>2018. 04</th>\n",
              "      <th>2018. 05</th>\n",
              "      <th>2018. 06</th>\n",
              "      <th>2018. 07</th>\n",
              "      <th>2018. 08</th>\n",
              "      <th>2018. 09</th>\n",
              "      <th>2018. 10</th>\n",
              "      <th>2018. 11</th>\n",
              "      <th>2018. 12</th>\n",
              "      <th>2019. 01</th>\n",
              "      <th>2019. 02</th>\n",
              "      <th>2019. 03</th>\n",
              "      <th>2019. 04</th>\n",
              "      <th>2019. 05</th>\n",
              "      <th>2019. 06</th>\n",
              "      <th>2019. 07</th>\n",
              "      <th>2019. 08</th>\n",
              "      <th>2019. 09</th>\n",
              "      <th>2019. 10</th>\n",
              "      <th>2019. 11</th>\n",
              "      <th>2019. 12</th>\n",
              "      <th>2020. 01</th>\n",
              "      <th>2020. 02</th>\n",
              "      <th>2020. 03</th>\n",
              "      <th>2020. 04</th>\n",
              "      <th>2020. 05</th>\n",
              "      <th>2020. 06</th>\n",
              "      <th>2020. 07</th>\n",
              "      <th>2020. 08</th>\n",
              "      <th>2020. 09</th>\n",
              "      <th>2020. 10</th>\n",
              "      <th>2020. 11</th>\n",
              "      <th>2020. 12</th>\n",
              "      <th>2021. 01</th>\n",
              "      <th>2021. 02</th>\n",
              "      <th>2021. 03</th>\n",
              "      <th>2021. 04</th>\n",
              "      <th>2021. 05</th>\n",
              "      <th>2021. 06</th>\n",
              "    </tr>\n",
              "  </thead>\n",
              "  <tbody>\n",
              "    <tr>\n",
              "      <th>0</th>\n",
              "      <td>연월말</td>\n",
              "      <td>소계</td>\n",
              "      <td>소계</td>\n",
              "      <td>1955.79</td>\n",
              "      <td>2030.25</td>\n",
              "      <td>2014.04</td>\n",
              "      <td>1981.99</td>\n",
              "      <td>1843.47</td>\n",
              "      <td>1854.01</td>\n",
              "      <td>1881.99</td>\n",
              "      <td>1905.12</td>\n",
              "      <td>1996.21</td>\n",
              "      <td>1912.06</td>\n",
              "      <td>1932.90</td>\n",
              "      <td>1997.05</td>\n",
              "      <td>1961.94</td>\n",
              "      <td>2026.49</td>\n",
              "      <td>2004.89</td>\n",
              "      <td>1963.95</td>\n",
              "      <td>2001.05</td>\n",
              "      <td>1863.32</td>\n",
              "      <td>1914.03</td>\n",
              "      <td>1926.36</td>\n",
              "      <td>1996.96</td>\n",
              "      <td>2030.09</td>\n",
              "      <td>2044.87</td>\n",
              "      <td>2011.34</td>\n",
              "      <td>1941.15</td>\n",
              "      <td>1979.99</td>\n",
              "      <td>1985.61</td>\n",
              "      <td>1961.79</td>\n",
              "      <td>1994.96</td>\n",
              "      <td>2002.21</td>\n",
              "      <td>2076.12</td>\n",
              "      <td>2068.54</td>\n",
              "      <td>2020.09</td>\n",
              "      <td>1964.43</td>\n",
              "      <td>1980.78</td>\n",
              "      <td>1915.59</td>\n",
              "      <td>1949.26</td>\n",
              "      <td>...</td>\n",
              "      <td>2445.85</td>\n",
              "      <td>2515.38</td>\n",
              "      <td>2423.01</td>\n",
              "      <td>2326.13</td>\n",
              "      <td>2295.26</td>\n",
              "      <td>2322.88</td>\n",
              "      <td>2343.07</td>\n",
              "      <td>2029.69</td>\n",
              "      <td>2096.86</td>\n",
              "      <td>2041.04</td>\n",
              "      <td>2204.85</td>\n",
              "      <td>2195.44</td>\n",
              "      <td>2140.67</td>\n",
              "      <td>2203.59</td>\n",
              "      <td>2041.74</td>\n",
              "      <td>2130.62</td>\n",
              "      <td>2024.55</td>\n",
              "      <td>1967.79</td>\n",
              "      <td>2063.05</td>\n",
              "      <td>2083.48</td>\n",
              "      <td>2087.96</td>\n",
              "      <td>2197.67</td>\n",
              "      <td>2119.01</td>\n",
              "      <td>1987.01</td>\n",
              "      <td>1754.64</td>\n",
              "      <td>1947.56</td>\n",
              "      <td>2029.60</td>\n",
              "      <td>2108.33</td>\n",
              "      <td>2249.37</td>\n",
              "      <td>2326.17</td>\n",
              "      <td>2327.89</td>\n",
              "      <td>2267.15</td>\n",
              "      <td>2591.34</td>\n",
              "      <td>2873.47</td>\n",
              "      <td>2976.21</td>\n",
              "      <td>3012.95</td>\n",
              "      <td>3061.42</td>\n",
              "      <td>3147.86</td>\n",
              "      <td>3203.92</td>\n",
              "      <td>3296.68</td>\n",
              "    </tr>\n",
              "    <tr>\n",
              "      <th>1</th>\n",
              "      <td>등락폭</td>\n",
              "      <td>소계</td>\n",
              "      <td>소계</td>\n",
              "      <td>130.05</td>\n",
              "      <td>74.46</td>\n",
              "      <td>-16.21</td>\n",
              "      <td>-32.05</td>\n",
              "      <td>-138.52</td>\n",
              "      <td>10.54</td>\n",
              "      <td>27.98</td>\n",
              "      <td>23.13</td>\n",
              "      <td>91.09</td>\n",
              "      <td>-84.15</td>\n",
              "      <td>20.84</td>\n",
              "      <td>64.15</td>\n",
              "      <td>-35.11</td>\n",
              "      <td>64.55</td>\n",
              "      <td>-21.60</td>\n",
              "      <td>-40.94</td>\n",
              "      <td>37.10</td>\n",
              "      <td>-137.73</td>\n",
              "      <td>50.71</td>\n",
              "      <td>12.33</td>\n",
              "      <td>70.60</td>\n",
              "      <td>33.13</td>\n",
              "      <td>14.78</td>\n",
              "      <td>-33.53</td>\n",
              "      <td>-70.19</td>\n",
              "      <td>38.84</td>\n",
              "      <td>5.62</td>\n",
              "      <td>-23.82</td>\n",
              "      <td>33.17</td>\n",
              "      <td>7.25</td>\n",
              "      <td>73.91</td>\n",
              "      <td>-7.58</td>\n",
              "      <td>-48.45</td>\n",
              "      <td>-55.66</td>\n",
              "      <td>16.35</td>\n",
              "      <td>-65.19</td>\n",
              "      <td>33.67</td>\n",
              "      <td>...</td>\n",
              "      <td>18.49</td>\n",
              "      <td>69.53</td>\n",
              "      <td>-92.37</td>\n",
              "      <td>-96.88</td>\n",
              "      <td>-30.87</td>\n",
              "      <td>27.62</td>\n",
              "      <td>20.19</td>\n",
              "      <td>-313.38</td>\n",
              "      <td>67.17</td>\n",
              "      <td>-55.82</td>\n",
              "      <td>163.81</td>\n",
              "      <td>-9.41</td>\n",
              "      <td>-54.77</td>\n",
              "      <td>62.92</td>\n",
              "      <td>-161.85</td>\n",
              "      <td>88.88</td>\n",
              "      <td>-106.07</td>\n",
              "      <td>-56.76</td>\n",
              "      <td>95.26</td>\n",
              "      <td>20.43</td>\n",
              "      <td>4.48</td>\n",
              "      <td>109.71</td>\n",
              "      <td>-78.66</td>\n",
              "      <td>-132.00</td>\n",
              "      <td>-232.37</td>\n",
              "      <td>192.92</td>\n",
              "      <td>82.04</td>\n",
              "      <td>78.73</td>\n",
              "      <td>141.04</td>\n",
              "      <td>76.80</td>\n",
              "      <td>1.72</td>\n",
              "      <td>-60.74</td>\n",
              "      <td>324.19</td>\n",
              "      <td>282.13</td>\n",
              "      <td>102.74</td>\n",
              "      <td>36.74</td>\n",
              "      <td>48.47</td>\n",
              "      <td>86.44</td>\n",
              "      <td>56.06</td>\n",
              "      <td>92.76</td>\n",
              "    </tr>\n",
              "    <tr>\n",
              "      <th>2</th>\n",
              "      <td>등락률 (%)</td>\n",
              "      <td>소계</td>\n",
              "      <td>소계</td>\n",
              "      <td>7.12</td>\n",
              "      <td>3.81</td>\n",
              "      <td>-0.80</td>\n",
              "      <td>-1.59</td>\n",
              "      <td>-6.99</td>\n",
              "      <td>0.57</td>\n",
              "      <td>1.51</td>\n",
              "      <td>1.23</td>\n",
              "      <td>4.78</td>\n",
              "      <td>-4.22</td>\n",
              "      <td>1.09</td>\n",
              "      <td>3.32</td>\n",
              "      <td>-1.76</td>\n",
              "      <td>3.29</td>\n",
              "      <td>-1.07</td>\n",
              "      <td>-2.04</td>\n",
              "      <td>1.89</td>\n",
              "      <td>-6.88</td>\n",
              "      <td>2.72</td>\n",
              "      <td>0.64</td>\n",
              "      <td>3.66</td>\n",
              "      <td>1.66</td>\n",
              "      <td>0.73</td>\n",
              "      <td>-1.64</td>\n",
              "      <td>-3.49</td>\n",
              "      <td>2.00</td>\n",
              "      <td>0.28</td>\n",
              "      <td>-1.20</td>\n",
              "      <td>1.69</td>\n",
              "      <td>0.36</td>\n",
              "      <td>3.69</td>\n",
              "      <td>-0.37</td>\n",
              "      <td>-2.34</td>\n",
              "      <td>-2.76</td>\n",
              "      <td>0.83</td>\n",
              "      <td>-3.29</td>\n",
              "      <td>1.76</td>\n",
              "      <td>...</td>\n",
              "      <td>0.76</td>\n",
              "      <td>2.84</td>\n",
              "      <td>-3.67</td>\n",
              "      <td>-4.00</td>\n",
              "      <td>-1.33</td>\n",
              "      <td>1.20</td>\n",
              "      <td>0.87</td>\n",
              "      <td>-13.37</td>\n",
              "      <td>3.31</td>\n",
              "      <td>-2.66</td>\n",
              "      <td>8.03</td>\n",
              "      <td>-0.43</td>\n",
              "      <td>-2.49</td>\n",
              "      <td>2.94</td>\n",
              "      <td>-7.34</td>\n",
              "      <td>4.35</td>\n",
              "      <td>-4.98</td>\n",
              "      <td>-2.80</td>\n",
              "      <td>4.84</td>\n",
              "      <td>0.99</td>\n",
              "      <td>0.22</td>\n",
              "      <td>5.25</td>\n",
              "      <td>-3.58</td>\n",
              "      <td>-6.23</td>\n",
              "      <td>-11.69</td>\n",
              "      <td>10.99</td>\n",
              "      <td>4.21</td>\n",
              "      <td>3.88</td>\n",
              "      <td>6.69</td>\n",
              "      <td>3.41</td>\n",
              "      <td>0.07</td>\n",
              "      <td>-2.61</td>\n",
              "      <td>14.30</td>\n",
              "      <td>10.89</td>\n",
              "      <td>3.58</td>\n",
              "      <td>1.23</td>\n",
              "      <td>1.61</td>\n",
              "      <td>2.82</td>\n",
              "      <td>1.78</td>\n",
              "      <td>2.90</td>\n",
              "    </tr>\n",
              "    <tr>\n",
              "      <th>3</th>\n",
              "      <td>평균</td>\n",
              "      <td>소계</td>\n",
              "      <td>소계</td>\n",
              "      <td>1891.01</td>\n",
              "      <td>2003.23</td>\n",
              "      <td>2023.41</td>\n",
              "      <td>1995.92</td>\n",
              "      <td>1886.35</td>\n",
              "      <td>1848.60</td>\n",
              "      <td>1826.75</td>\n",
              "      <td>1918.91</td>\n",
              "      <td>1961.29</td>\n",
              "      <td>1942.19</td>\n",
              "      <td>1904.70</td>\n",
              "      <td>1973.84</td>\n",
              "      <td>1986.10</td>\n",
              "      <td>1979.85</td>\n",
              "      <td>1990.24</td>\n",
              "      <td>1938.88</td>\n",
              "      <td>1974.45</td>\n",
              "      <td>1884.41</td>\n",
              "      <td>1871.77</td>\n",
              "      <td>1896.96</td>\n",
              "      <td>1984.39</td>\n",
              "      <td>2029.68</td>\n",
              "      <td>2009.92</td>\n",
              "      <td>1988.33</td>\n",
              "      <td>1948.22</td>\n",
              "      <td>1937.73</td>\n",
              "      <td>1952.43</td>\n",
              "      <td>1991.19</td>\n",
              "      <td>1994.13</td>\n",
              "      <td>1995.08</td>\n",
              "      <td>2021.95</td>\n",
              "      <td>2060.93</td>\n",
              "      <td>2042.71</td>\n",
              "      <td>1942.80</td>\n",
              "      <td>1959.65</td>\n",
              "      <td>1941.93</td>\n",
              "      <td>1920.99</td>\n",
              "      <td>...</td>\n",
              "      <td>2451.57</td>\n",
              "      <td>2458.22</td>\n",
              "      <td>2461.30</td>\n",
              "      <td>2394.51</td>\n",
              "      <td>2284.25</td>\n",
              "      <td>2283.80</td>\n",
              "      <td>2307.33</td>\n",
              "      <td>2153.48</td>\n",
              "      <td>2083.33</td>\n",
              "      <td>2070.13</td>\n",
              "      <td>2101.98</td>\n",
              "      <td>2210.20</td>\n",
              "      <td>2161.91</td>\n",
              "      <td>2212.12</td>\n",
              "      <td>2086.90</td>\n",
              "      <td>2105.30</td>\n",
              "      <td>2079.48</td>\n",
              "      <td>1944.24</td>\n",
              "      <td>2045.21</td>\n",
              "      <td>2065.75</td>\n",
              "      <td>2128.79</td>\n",
              "      <td>2147.01</td>\n",
              "      <td>2203.44</td>\n",
              "      <td>2167.12</td>\n",
              "      <td>1786.75</td>\n",
              "      <td>1849.59</td>\n",
              "      <td>1965.17</td>\n",
              "      <td>2134.70</td>\n",
              "      <td>2195.95</td>\n",
              "      <td>2349.87</td>\n",
              "      <td>2371.52</td>\n",
              "      <td>2357.82</td>\n",
              "      <td>2504.18</td>\n",
              "      <td>2755.77</td>\n",
              "      <td>3089.27</td>\n",
              "      <td>3092.41</td>\n",
              "      <td>3032.47</td>\n",
              "      <td>3165.08</td>\n",
              "      <td>3169.20</td>\n",
              "      <td>3259.14</td>\n",
              "    </tr>\n",
              "    <tr>\n",
              "      <th>4</th>\n",
              "      <td>종가기준</td>\n",
              "      <td>최고</td>\n",
              "      <td>지수</td>\n",
              "      <td>1964.83</td>\n",
              "      <td>2030.25</td>\n",
              "      <td>2047.00</td>\n",
              "      <td>2049.28</td>\n",
              "      <td>1999.07</td>\n",
              "      <td>1904.12</td>\n",
              "      <td>1881.99</td>\n",
              "      <td>1957.91</td>\n",
              "      <td>2007.88</td>\n",
              "      <td>1996.03</td>\n",
              "      <td>1937.55</td>\n",
              "      <td>2002.77</td>\n",
              "      <td>2031.10</td>\n",
              "      <td>2026.49</td>\n",
              "      <td>2020.74</td>\n",
              "      <td>1995.99</td>\n",
              "      <td>2001.20</td>\n",
              "      <td>1989.57</td>\n",
              "      <td>1917.05</td>\n",
              "      <td>1926.36</td>\n",
              "      <td>2013.37</td>\n",
              "      <td>2059.58</td>\n",
              "      <td>2045.77</td>\n",
              "      <td>2030.78</td>\n",
              "      <td>1970.42</td>\n",
              "      <td>1979.99</td>\n",
              "      <td>1985.61</td>\n",
              "      <td>2008.61</td>\n",
              "      <td>2017.17</td>\n",
              "      <td>2014.67</td>\n",
              "      <td>2082.61</td>\n",
              "      <td>2080.42</td>\n",
              "      <td>2067.86</td>\n",
              "      <td>1991.54</td>\n",
              "      <td>1982.09</td>\n",
              "      <td>1986.62</td>\n",
              "      <td>1961.58</td>\n",
              "      <td>...</td>\n",
              "      <td>2496.02</td>\n",
              "      <td>2515.38</td>\n",
              "      <td>2505.61</td>\n",
              "      <td>2470.58</td>\n",
              "      <td>2310.90</td>\n",
              "      <td>2322.88</td>\n",
              "      <td>2355.43</td>\n",
              "      <td>2338.88</td>\n",
              "      <td>2114.10</td>\n",
              "      <td>2131.93</td>\n",
              "      <td>2206.20</td>\n",
              "      <td>2234.79</td>\n",
              "      <td>2190.66</td>\n",
              "      <td>2248.63</td>\n",
              "      <td>2212.75</td>\n",
              "      <td>2134.32</td>\n",
              "      <td>2129.74</td>\n",
              "      <td>2017.34</td>\n",
              "      <td>2101.04</td>\n",
              "      <td>2093.60</td>\n",
              "      <td>2162.18</td>\n",
              "      <td>2204.21</td>\n",
              "      <td>2267.25</td>\n",
              "      <td>2243.59</td>\n",
              "      <td>2085.26</td>\n",
              "      <td>1947.56</td>\n",
              "      <td>2031.20</td>\n",
              "      <td>2195.69</td>\n",
              "      <td>2267.01</td>\n",
              "      <td>2437.53</td>\n",
              "      <td>2443.58</td>\n",
              "      <td>2403.73</td>\n",
              "      <td>2633.45</td>\n",
              "      <td>2873.47</td>\n",
              "      <td>3208.99</td>\n",
              "      <td>3163.25</td>\n",
              "      <td>3082.99</td>\n",
              "      <td>3220.70</td>\n",
              "      <td>3249.30</td>\n",
              "      <td>3302.84</td>\n",
              "    </tr>\n",
              "  </tbody>\n",
              "</table>\n",
              "<p>5 rows × 117 columns</p>\n",
              "</div>"
            ],
            "text/plain": [
              "  주가구분별(1) 주가구분별(2) 주가구분별(3)  2012. 01  ...  2021. 03  2021. 04  2021. 05  2021. 06\n",
              "0      연월말       소계       소계   1955.79  ...   3061.42   3147.86   3203.92   3296.68\n",
              "1      등락폭       소계       소계    130.05  ...     48.47     86.44     56.06     92.76\n",
              "2  등락률 (%)       소계       소계      7.12  ...      1.61      2.82      1.78      2.90\n",
              "3       평균       소계       소계   1891.01  ...   3032.47   3165.08   3169.20   3259.14\n",
              "4     종가기준       최고       지수   1964.83  ...   3082.99   3220.70   3249.30   3302.84\n",
              "\n",
              "[5 rows x 117 columns]"
            ]
          },
          "metadata": {
            "tags": []
          },
          "execution_count": 6
        }
      ]
    },
    {
      "cell_type": "code",
      "metadata": {
        "colab": {
          "base_uri": "https://localhost:8080/"
        },
        "id": "VNMciFgmrG4G",
        "outputId": "a1d0557e-2fc4-44ac-cc0d-580ca399f9b2"
      },
      "source": [
        "#코스피 데이터 평균 행 추출\n",
        "df_kospi = data_kospi.iloc[3,3:114]\n",
        "df_kospi = pd.to_numeric(df_kospi, errors='coerce')\n",
        "df_kospi"
      ],
      "execution_count": null,
      "outputs": [
        {
          "output_type": "execute_result",
          "data": {
            "text/plain": [
              "2012. 01    1891.01\n",
              "2012. 02    2003.23\n",
              "2012. 03    2023.41\n",
              "2012. 04    1995.92\n",
              "2012. 05    1886.35\n",
              "             ...   \n",
              "2020. 11    2504.18\n",
              "2020. 12    2755.77\n",
              "2021. 01    3089.27\n",
              "2021. 02    3092.41\n",
              "2021. 03    3032.47\n",
              "Name: 3, Length: 111, dtype: float64"
            ]
          },
          "metadata": {
            "tags": []
          },
          "execution_count": 7
        }
      ]
    },
    {
      "cell_type": "code",
      "metadata": {
        "colab": {
          "base_uri": "https://localhost:8080/",
          "height": 366
        },
        "id": "fJBeTInKUMx5",
        "outputId": "588935db-ce03-4ebf-e13b-1900e857cdf0"
      },
      "source": [
        "#코스피 데이터 평균 시리즈 -> 데이터 변환\n",
        "df_kospii = df_kospi.to_frame()\n",
        "df_kospii = df_kospii.reset_index()\n",
        "df_kospii.info()\n",
        "df_kospii.head()"
      ],
      "execution_count": null,
      "outputs": [
        {
          "output_type": "stream",
          "text": [
            "<class 'pandas.core.frame.DataFrame'>\n",
            "RangeIndex: 111 entries, 0 to 110\n",
            "Data columns (total 2 columns):\n",
            " #   Column  Non-Null Count  Dtype  \n",
            "---  ------  --------------  -----  \n",
            " 0   index   111 non-null    object \n",
            " 1   3       111 non-null    float64\n",
            "dtypes: float64(1), object(1)\n",
            "memory usage: 1.9+ KB\n"
          ],
          "name": "stdout"
        },
        {
          "output_type": "execute_result",
          "data": {
            "text/html": [
              "<div>\n",
              "<style scoped>\n",
              "    .dataframe tbody tr th:only-of-type {\n",
              "        vertical-align: middle;\n",
              "    }\n",
              "\n",
              "    .dataframe tbody tr th {\n",
              "        vertical-align: top;\n",
              "    }\n",
              "\n",
              "    .dataframe thead th {\n",
              "        text-align: right;\n",
              "    }\n",
              "</style>\n",
              "<table border=\"1\" class=\"dataframe\">\n",
              "  <thead>\n",
              "    <tr style=\"text-align: right;\">\n",
              "      <th></th>\n",
              "      <th>index</th>\n",
              "      <th>3</th>\n",
              "    </tr>\n",
              "  </thead>\n",
              "  <tbody>\n",
              "    <tr>\n",
              "      <th>0</th>\n",
              "      <td>2012. 01</td>\n",
              "      <td>1891.01</td>\n",
              "    </tr>\n",
              "    <tr>\n",
              "      <th>1</th>\n",
              "      <td>2012. 02</td>\n",
              "      <td>2003.23</td>\n",
              "    </tr>\n",
              "    <tr>\n",
              "      <th>2</th>\n",
              "      <td>2012. 03</td>\n",
              "      <td>2023.41</td>\n",
              "    </tr>\n",
              "    <tr>\n",
              "      <th>3</th>\n",
              "      <td>2012. 04</td>\n",
              "      <td>1995.92</td>\n",
              "    </tr>\n",
              "    <tr>\n",
              "      <th>4</th>\n",
              "      <td>2012. 05</td>\n",
              "      <td>1886.35</td>\n",
              "    </tr>\n",
              "  </tbody>\n",
              "</table>\n",
              "</div>"
            ],
            "text/plain": [
              "      index        3\n",
              "0  2012. 01  1891.01\n",
              "1  2012. 02  2003.23\n",
              "2  2012. 03  2023.41\n",
              "3  2012. 04  1995.92\n",
              "4  2012. 05  1886.35"
            ]
          },
          "metadata": {
            "tags": []
          },
          "execution_count": 8
        }
      ]
    },
    {
      "cell_type": "code",
      "metadata": {
        "colab": {
          "base_uri": "https://localhost:8080/",
          "height": 419
        },
        "id": "_zQS8WUvXkc1",
        "outputId": "a3a9520f-8fa1-4c26-f94b-ed3f18bb3b10"
      },
      "source": [
        "df_kospii.rename(columns={'index':'날짜'}, inplace=True)\n",
        "df_kospii['날짜'] = pd.to_datetime(df_kospii['날짜'])\n",
        "df_kospii"
      ],
      "execution_count": null,
      "outputs": [
        {
          "output_type": "execute_result",
          "data": {
            "text/html": [
              "<div>\n",
              "<style scoped>\n",
              "    .dataframe tbody tr th:only-of-type {\n",
              "        vertical-align: middle;\n",
              "    }\n",
              "\n",
              "    .dataframe tbody tr th {\n",
              "        vertical-align: top;\n",
              "    }\n",
              "\n",
              "    .dataframe thead th {\n",
              "        text-align: right;\n",
              "    }\n",
              "</style>\n",
              "<table border=\"1\" class=\"dataframe\">\n",
              "  <thead>\n",
              "    <tr style=\"text-align: right;\">\n",
              "      <th></th>\n",
              "      <th>날짜</th>\n",
              "      <th>3</th>\n",
              "    </tr>\n",
              "  </thead>\n",
              "  <tbody>\n",
              "    <tr>\n",
              "      <th>0</th>\n",
              "      <td>2012-01-01</td>\n",
              "      <td>1891.01</td>\n",
              "    </tr>\n",
              "    <tr>\n",
              "      <th>1</th>\n",
              "      <td>2012-02-01</td>\n",
              "      <td>2003.23</td>\n",
              "    </tr>\n",
              "    <tr>\n",
              "      <th>2</th>\n",
              "      <td>2012-03-01</td>\n",
              "      <td>2023.41</td>\n",
              "    </tr>\n",
              "    <tr>\n",
              "      <th>3</th>\n",
              "      <td>2012-04-01</td>\n",
              "      <td>1995.92</td>\n",
              "    </tr>\n",
              "    <tr>\n",
              "      <th>4</th>\n",
              "      <td>2012-05-01</td>\n",
              "      <td>1886.35</td>\n",
              "    </tr>\n",
              "    <tr>\n",
              "      <th>...</th>\n",
              "      <td>...</td>\n",
              "      <td>...</td>\n",
              "    </tr>\n",
              "    <tr>\n",
              "      <th>106</th>\n",
              "      <td>2020-11-01</td>\n",
              "      <td>2504.18</td>\n",
              "    </tr>\n",
              "    <tr>\n",
              "      <th>107</th>\n",
              "      <td>2020-12-01</td>\n",
              "      <td>2755.77</td>\n",
              "    </tr>\n",
              "    <tr>\n",
              "      <th>108</th>\n",
              "      <td>2021-01-01</td>\n",
              "      <td>3089.27</td>\n",
              "    </tr>\n",
              "    <tr>\n",
              "      <th>109</th>\n",
              "      <td>2021-02-01</td>\n",
              "      <td>3092.41</td>\n",
              "    </tr>\n",
              "    <tr>\n",
              "      <th>110</th>\n",
              "      <td>2021-03-01</td>\n",
              "      <td>3032.47</td>\n",
              "    </tr>\n",
              "  </tbody>\n",
              "</table>\n",
              "<p>111 rows × 2 columns</p>\n",
              "</div>"
            ],
            "text/plain": [
              "            날짜        3\n",
              "0   2012-01-01  1891.01\n",
              "1   2012-02-01  2003.23\n",
              "2   2012-03-01  2023.41\n",
              "3   2012-04-01  1995.92\n",
              "4   2012-05-01  1886.35\n",
              "..         ...      ...\n",
              "106 2020-11-01  2504.18\n",
              "107 2020-12-01  2755.77\n",
              "108 2021-01-01  3089.27\n",
              "109 2021-02-01  3092.41\n",
              "110 2021-03-01  3032.47\n",
              "\n",
              "[111 rows x 2 columns]"
            ]
          },
          "metadata": {
            "tags": []
          },
          "execution_count": 9
        }
      ]
    },
    {
      "cell_type": "code",
      "metadata": {
        "id": "5IA4_v1zsqnT"
      },
      "source": [
        "data_mae.rename(columns={'Unnamed: 0':'날짜'}, inplace=True)\n",
        "data_mae['날짜'] = pd.to_datetime(data_mae['날짜'])"
      ],
      "execution_count": null,
      "outputs": []
    },
    {
      "cell_type": "code",
      "metadata": {
        "colab": {
          "base_uri": "https://localhost:8080/",
          "height": 671
        },
        "id": "QqsqS7FQvxf8",
        "outputId": "19877b16-5293-49b9-efe5-ecaf542781e8"
      },
      "source": [
        "df_mae = data_mae[data_mae['날짜'] >= '2012-01-01']\n",
        "df_mae.info()\n",
        "df_mae.head()\n",
        "df_mae.reset_index()"
      ],
      "execution_count": null,
      "outputs": [
        {
          "output_type": "stream",
          "text": [
            "<class 'pandas.core.frame.DataFrame'>\n",
            "Int64Index: 111 entries, 312 to 422\n",
            "Data columns (total 7 columns):\n",
            " #   Column                Non-Null Count  Dtype         \n",
            "---  ------                --------------  -----         \n",
            " 0   날짜                    111 non-null    datetime64[ns]\n",
            " 1   총지수[2019.01=100]      111 non-null    float64       \n",
            " 2   단독주택[2019.01=100]     111 non-null    float64       \n",
            " 3   연립주택[2019.01=100]     111 non-null    float64       \n",
            " 4   아파트[2019.01=100]      111 non-null    float64       \n",
            " 5   아파트(서울)[2019.01=100]  111 non-null    float64       \n",
            " 6   총지수(서울)[2019.01=100]  111 non-null    float64       \n",
            "dtypes: datetime64[ns](1), float64(6)\n",
            "memory usage: 6.9 KB\n"
          ],
          "name": "stdout"
        },
        {
          "output_type": "execute_result",
          "data": {
            "text/html": [
              "<div>\n",
              "<style scoped>\n",
              "    .dataframe tbody tr th:only-of-type {\n",
              "        vertical-align: middle;\n",
              "    }\n",
              "\n",
              "    .dataframe tbody tr th {\n",
              "        vertical-align: top;\n",
              "    }\n",
              "\n",
              "    .dataframe thead th {\n",
              "        text-align: right;\n",
              "    }\n",
              "</style>\n",
              "<table border=\"1\" class=\"dataframe\">\n",
              "  <thead>\n",
              "    <tr style=\"text-align: right;\">\n",
              "      <th></th>\n",
              "      <th>index</th>\n",
              "      <th>날짜</th>\n",
              "      <th>총지수[2019.01=100]</th>\n",
              "      <th>단독주택[2019.01=100]</th>\n",
              "      <th>연립주택[2019.01=100]</th>\n",
              "      <th>아파트[2019.01=100]</th>\n",
              "      <th>아파트(서울)[2019.01=100]</th>\n",
              "      <th>총지수(서울)[2019.01=100]</th>\n",
              "    </tr>\n",
              "  </thead>\n",
              "  <tbody>\n",
              "    <tr>\n",
              "      <th>0</th>\n",
              "      <td>312</td>\n",
              "      <td>2012-01-01</td>\n",
              "      <td>88.425</td>\n",
              "      <td>89.553</td>\n",
              "      <td>92.626</td>\n",
              "      <td>87.785</td>\n",
              "      <td>80.089</td>\n",
              "      <td>83.954</td>\n",
              "    </tr>\n",
              "    <tr>\n",
              "      <th>1</th>\n",
              "      <td>313</td>\n",
              "      <td>2012-02-01</td>\n",
              "      <td>88.573</td>\n",
              "      <td>89.706</td>\n",
              "      <td>92.682</td>\n",
              "      <td>87.953</td>\n",
              "      <td>79.978</td>\n",
              "      <td>83.878</td>\n",
              "    </tr>\n",
              "    <tr>\n",
              "      <th>2</th>\n",
              "      <td>314</td>\n",
              "      <td>2012-03-01</td>\n",
              "      <td>88.707</td>\n",
              "      <td>89.799</td>\n",
              "      <td>92.752</td>\n",
              "      <td>88.122</td>\n",
              "      <td>79.779</td>\n",
              "      <td>83.776</td>\n",
              "    </tr>\n",
              "    <tr>\n",
              "      <th>3</th>\n",
              "      <td>315</td>\n",
              "      <td>2012-04-01</td>\n",
              "      <td>88.802</td>\n",
              "      <td>89.904</td>\n",
              "      <td>92.735</td>\n",
              "      <td>88.247</td>\n",
              "      <td>79.433</td>\n",
              "      <td>83.553</td>\n",
              "    </tr>\n",
              "    <tr>\n",
              "      <th>4</th>\n",
              "      <td>316</td>\n",
              "      <td>2012-05-01</td>\n",
              "      <td>88.845</td>\n",
              "      <td>90.024</td>\n",
              "      <td>92.774</td>\n",
              "      <td>88.272</td>\n",
              "      <td>79.224</td>\n",
              "      <td>83.424</td>\n",
              "    </tr>\n",
              "    <tr>\n",
              "      <th>...</th>\n",
              "      <td>...</td>\n",
              "      <td>...</td>\n",
              "      <td>...</td>\n",
              "      <td>...</td>\n",
              "      <td>...</td>\n",
              "      <td>...</td>\n",
              "      <td>...</td>\n",
              "      <td>...</td>\n",
              "    </tr>\n",
              "    <tr>\n",
              "      <th>106</th>\n",
              "      <td>418</td>\n",
              "      <td>2020-11-01</td>\n",
              "      <td>107.125</td>\n",
              "      <td>104.334</td>\n",
              "      <td>106.398</td>\n",
              "      <td>107.506</td>\n",
              "      <td>114.853</td>\n",
              "      <td>112.139</td>\n",
              "    </tr>\n",
              "    <tr>\n",
              "      <th>107</th>\n",
              "      <td>419</td>\n",
              "      <td>2020-12-01</td>\n",
              "      <td>108.586</td>\n",
              "      <td>104.909</td>\n",
              "      <td>107.237</td>\n",
              "      <td>109.346</td>\n",
              "      <td>116.365</td>\n",
              "      <td>113.532</td>\n",
              "    </tr>\n",
              "    <tr>\n",
              "      <th>108</th>\n",
              "      <td>420</td>\n",
              "      <td>2021-01-01</td>\n",
              "      <td>109.878</td>\n",
              "      <td>105.303</td>\n",
              "      <td>107.895</td>\n",
              "      <td>111.005</td>\n",
              "      <td>118.230</td>\n",
              "      <td>114.974</td>\n",
              "    </tr>\n",
              "    <tr>\n",
              "      <th>109</th>\n",
              "      <td>421</td>\n",
              "      <td>2021-02-01</td>\n",
              "      <td>111.375</td>\n",
              "      <td>105.718</td>\n",
              "      <td>108.706</td>\n",
              "      <td>112.957</td>\n",
              "      <td>120.121</td>\n",
              "      <td>116.290</td>\n",
              "    </tr>\n",
              "    <tr>\n",
              "      <th>110</th>\n",
              "      <td>422</td>\n",
              "      <td>2021-03-01</td>\n",
              "      <td>112.842</td>\n",
              "      <td>106.095</td>\n",
              "      <td>109.425</td>\n",
              "      <td>114.911</td>\n",
              "      <td>121.721</td>\n",
              "      <td>117.411</td>\n",
              "    </tr>\n",
              "  </tbody>\n",
              "</table>\n",
              "<p>111 rows × 8 columns</p>\n",
              "</div>"
            ],
            "text/plain": [
              "     index         날짜  ...  아파트(서울)[2019.01=100]  총지수(서울)[2019.01=100]\n",
              "0      312 2012-01-01  ...                80.089                83.954\n",
              "1      313 2012-02-01  ...                79.978                83.878\n",
              "2      314 2012-03-01  ...                79.779                83.776\n",
              "3      315 2012-04-01  ...                79.433                83.553\n",
              "4      316 2012-05-01  ...                79.224                83.424\n",
              "..     ...        ...  ...                   ...                   ...\n",
              "106    418 2020-11-01  ...               114.853               112.139\n",
              "107    419 2020-12-01  ...               116.365               113.532\n",
              "108    420 2021-01-01  ...               118.230               114.974\n",
              "109    421 2021-02-01  ...               120.121               116.290\n",
              "110    422 2021-03-01  ...               121.721               117.411\n",
              "\n",
              "[111 rows x 8 columns]"
            ]
          },
          "metadata": {
            "tags": []
          },
          "execution_count": 11
        }
      ]
    },
    {
      "cell_type": "code",
      "metadata": {
        "colab": {
          "base_uri": "https://localhost:8080/"
        },
        "id": "BciCLq_DOMEm",
        "outputId": "f357609f-54a9-4fa5-b8a1-1e9cfe52b78d"
      },
      "source": [
        "#코스피 평균 지수(3) & 주택매매가격지수 결합\n",
        "mae_ko = pd.merge(df_mae, df_kospii, on = '날짜', how = 'outer')\n",
        "mae_ko.head()\n",
        "mae_ko.info()"
      ],
      "execution_count": null,
      "outputs": [
        {
          "output_type": "stream",
          "text": [
            "<class 'pandas.core.frame.DataFrame'>\n",
            "Int64Index: 111 entries, 0 to 110\n",
            "Data columns (total 8 columns):\n",
            " #   Column                Non-Null Count  Dtype         \n",
            "---  ------                --------------  -----         \n",
            " 0   날짜                    111 non-null    datetime64[ns]\n",
            " 1   총지수[2019.01=100]      111 non-null    float64       \n",
            " 2   단독주택[2019.01=100]     111 non-null    float64       \n",
            " 3   연립주택[2019.01=100]     111 non-null    float64       \n",
            " 4   아파트[2019.01=100]      111 non-null    float64       \n",
            " 5   아파트(서울)[2019.01=100]  111 non-null    float64       \n",
            " 6   총지수(서울)[2019.01=100]  111 non-null    float64       \n",
            " 7   3                     111 non-null    float64       \n",
            "dtypes: datetime64[ns](1), float64(7)\n",
            "memory usage: 7.8 KB\n"
          ],
          "name": "stdout"
        }
      ]
    },
    {
      "cell_type": "code",
      "metadata": {
        "colab": {
          "base_uri": "https://localhost:8080/",
          "height": 204
        },
        "id": "Gv0WFBOGdkwK",
        "outputId": "c1086fa2-89b1-40f4-c222-2db6b47ffb51"
      },
      "source": [
        "mae_ko.head()"
      ],
      "execution_count": null,
      "outputs": [
        {
          "output_type": "execute_result",
          "data": {
            "text/html": [
              "<div>\n",
              "<style scoped>\n",
              "    .dataframe tbody tr th:only-of-type {\n",
              "        vertical-align: middle;\n",
              "    }\n",
              "\n",
              "    .dataframe tbody tr th {\n",
              "        vertical-align: top;\n",
              "    }\n",
              "\n",
              "    .dataframe thead th {\n",
              "        text-align: right;\n",
              "    }\n",
              "</style>\n",
              "<table border=\"1\" class=\"dataframe\">\n",
              "  <thead>\n",
              "    <tr style=\"text-align: right;\">\n",
              "      <th></th>\n",
              "      <th>날짜</th>\n",
              "      <th>총지수[2019.01=100]</th>\n",
              "      <th>단독주택[2019.01=100]</th>\n",
              "      <th>연립주택[2019.01=100]</th>\n",
              "      <th>아파트[2019.01=100]</th>\n",
              "      <th>아파트(서울)[2019.01=100]</th>\n",
              "      <th>총지수(서울)[2019.01=100]</th>\n",
              "      <th>3</th>\n",
              "    </tr>\n",
              "  </thead>\n",
              "  <tbody>\n",
              "    <tr>\n",
              "      <th>0</th>\n",
              "      <td>2012-01-01</td>\n",
              "      <td>88.425</td>\n",
              "      <td>89.553</td>\n",
              "      <td>92.626</td>\n",
              "      <td>87.785</td>\n",
              "      <td>80.089</td>\n",
              "      <td>83.954</td>\n",
              "      <td>1891.01</td>\n",
              "    </tr>\n",
              "    <tr>\n",
              "      <th>1</th>\n",
              "      <td>2012-02-01</td>\n",
              "      <td>88.573</td>\n",
              "      <td>89.706</td>\n",
              "      <td>92.682</td>\n",
              "      <td>87.953</td>\n",
              "      <td>79.978</td>\n",
              "      <td>83.878</td>\n",
              "      <td>2003.23</td>\n",
              "    </tr>\n",
              "    <tr>\n",
              "      <th>2</th>\n",
              "      <td>2012-03-01</td>\n",
              "      <td>88.707</td>\n",
              "      <td>89.799</td>\n",
              "      <td>92.752</td>\n",
              "      <td>88.122</td>\n",
              "      <td>79.779</td>\n",
              "      <td>83.776</td>\n",
              "      <td>2023.41</td>\n",
              "    </tr>\n",
              "    <tr>\n",
              "      <th>3</th>\n",
              "      <td>2012-04-01</td>\n",
              "      <td>88.802</td>\n",
              "      <td>89.904</td>\n",
              "      <td>92.735</td>\n",
              "      <td>88.247</td>\n",
              "      <td>79.433</td>\n",
              "      <td>83.553</td>\n",
              "      <td>1995.92</td>\n",
              "    </tr>\n",
              "    <tr>\n",
              "      <th>4</th>\n",
              "      <td>2012-05-01</td>\n",
              "      <td>88.845</td>\n",
              "      <td>90.024</td>\n",
              "      <td>92.774</td>\n",
              "      <td>88.272</td>\n",
              "      <td>79.224</td>\n",
              "      <td>83.424</td>\n",
              "      <td>1886.35</td>\n",
              "    </tr>\n",
              "  </tbody>\n",
              "</table>\n",
              "</div>"
            ],
            "text/plain": [
              "          날짜  총지수[2019.01=100]  ...  총지수(서울)[2019.01=100]        3\n",
              "0 2012-01-01            88.425  ...                83.954  1891.01\n",
              "1 2012-02-01            88.573  ...                83.878  2003.23\n",
              "2 2012-03-01            88.707  ...                83.776  2023.41\n",
              "3 2012-04-01            88.802  ...                83.553  1995.92\n",
              "4 2012-05-01            88.845  ...                83.424  1886.35\n",
              "\n",
              "[5 rows x 8 columns]"
            ]
          },
          "metadata": {
            "tags": []
          },
          "execution_count": 13
        }
      ]
    },
    {
      "cell_type": "code",
      "metadata": {
        "colab": {
          "base_uri": "https://localhost:8080/",
          "height": 727
        },
        "id": "BfbkIXoIcFF8",
        "outputId": "a0e6b88a-72d7-405c-fbeb-a4da21c147b0"
      },
      "source": [
        "#주택매매가격지수와 코스피 평균 지수의 상관관계\n",
        "mae_kop = mae_ko.iloc[:,1:] # 합친거에서 날짜 제외\n",
        "plt.figure(figsize=(10,10))\n",
        "sns.heatmap(mae_kop.corr())"
      ],
      "execution_count": null,
      "outputs": [
        {
          "output_type": "execute_result",
          "data": {
            "text/plain": [
              "<matplotlib.axes._subplots.AxesSubplot at 0x7f8bf3d06250>"
            ]
          },
          "metadata": {
            "tags": []
          },
          "execution_count": 14
        },
        {
          "output_type": "display_data",
          "data": {
            "image/png": "[encoded data removed]",
            "text/plain": [
              "<Figure size 720x720 with 2 Axes>"
            ]
          },
          "metadata": {
            "tags": [],
            "needs_background": "light"
          }
        }
      ]
    },
    {
      "cell_type": "code",
      "metadata": {
        "id": "Tjf0E2EGxJgW",
        "colab": {
          "base_uri": "https://localhost:8080/",
          "height": 279
        },
        "outputId": "9d929bc4-bd40-47cf-bc7d-1b8162ec9696"
      },
      "source": [
        "#평균코스피별 총지수\n",
        "plt.plot(mae_kop['총지수[2019.01=100]'], mae_kop.iloc[:,6])\n",
        "plt.xlabel('주택매매가격 총지수')\n",
        "plt.ylabel('코스피평균')\n",
        "plt.show()"
      ],
      "execution_count": null,
      "outputs": [
        {
          "output_type": "display_data",
          "data": {
            "image/png": "[encoded data removed]",
            "text/plain": [
              "<Figure size 432x288 with 1 Axes>"
            ]
          },
          "metadata": {
            "tags": [],
            "needs_background": "light"
          }
        }
      ]
    },
    {
      "cell_type": "code",
      "metadata": {
        "colab": {
          "base_uri": "https://localhost:8080/",
          "height": 279
        },
        "id": "l5jaxUg0trKO",
        "outputId": "0483a5f2-ebbe-42c8-fe63-11550f89ca18"
      },
      "source": [
        "#평균코스피별 단독주택\n",
        "plt.plot(mae_kop['단독주택[2019.01=100]'], mae_kop.iloc[:,6])\n",
        "plt.xlabel('단독주택')\n",
        "plt.ylabel('코스피평균')\n",
        "plt.show()"
      ],
      "execution_count": null,
      "outputs": [
        {
          "output_type": "display_data",
          "data": {
            "image/png": "[encoded data removed]",
            "text/plain": [
              "<Figure size 432x288 with 1 Axes>"
            ]
          },
          "metadata": {
            "tags": [],
            "needs_background": "light"
          }
        }
      ]
    },
    {
      "cell_type": "code",
      "metadata": {
        "colab": {
          "base_uri": "https://localhost:8080/",
          "height": 279
        },
        "id": "PqIWEi6o-bYU",
        "outputId": "4f55221b-592d-4e8c-95bf-d7067bb58cb9"
      },
      "source": [
        "#평균코스피별 단독주택\n",
        "plt.plot(mae_kop['연립주택[2019.01=100]'], mae_kop.iloc[:,6])\n",
        "plt.xlabel('연립주택')\n",
        "plt.ylabel('코스피평균')\n",
        "plt.show()"
      ],
      "execution_count": null,
      "outputs": [
        {
          "output_type": "display_data",
          "data": {
            "image/png": "[encoded data removed]",
            "text/plain": [
              "<Figure size 432x288 with 1 Axes>"
            ]
          },
          "metadata": {
            "tags": [],
            "needs_background": "light"
          }
        }
      ]
    },
    {
      "cell_type": "code",
      "metadata": {
        "colab": {
          "base_uri": "https://localhost:8080/",
          "height": 279
        },
        "id": "jVDOLW88-4cN",
        "outputId": "95ae2c38-90e0-41a4-e29d-6aca5c1c30e5"
      },
      "source": [
        "#평균코스피별 아파트\n",
        "plt.plot(mae_kop['아파트[2019.01=100]'], mae_kop.iloc[:,6])\n",
        "plt.xlabel('아파트')\n",
        "plt.ylabel('코스피평균')\n",
        "plt.show()"
      ],
      "execution_count": null,
      "outputs": [
        {
          "output_type": "display_data",
          "data": {
            "image/png": "[encoded data removed]",
            "text/plain": [
              "<Figure size 432x288 with 1 Axes>"
            ]
          },
          "metadata": {
            "tags": [],
            "needs_background": "light"
          }
        }
      ]
    },
    {
      "cell_type": "code",
      "metadata": {
        "colab": {
          "base_uri": "https://localhost:8080/",
          "height": 279
        },
        "id": "a83bGzwp-_PL",
        "outputId": "3e471cff-0630-40f9-8245-a1ff48223fe0"
      },
      "source": [
        "#평균코스피별 아파트(서울)\n",
        "plt.plot(mae_kop['아파트(서울)[2019.01=100]'], mae_kop.iloc[:,6])\n",
        "plt.xlabel('아파트(서울)')\n",
        "plt.ylabel('코스피평균')\n",
        "plt.show()"
      ],
      "execution_count": null,
      "outputs": [
        {
          "output_type": "display_data",
          "data": {
            "image/png": "[encoded data removed]",
            "text/plain": [
              "<Figure size 432x288 with 1 Axes>"
            ]
          },
          "metadata": {
            "tags": [],
            "needs_background": "light"
          }
        }
      ]
    },
    {
      "cell_type": "code",
      "metadata": {
        "colab": {
          "base_uri": "https://localhost:8080/",
          "height": 279
        },
        "id": "4vaGVbH5_LLC",
        "outputId": "386cfdca-813d-41c1-8834-dbeb87946084"
      },
      "source": [
        "#평균코스피별 총지수(서울)\n",
        "plt.plot(mae_kop['총지수(서울)[2019.01=100]'], mae_kop.iloc[:,6])\n",
        "plt.xlabel('총지수(서울)')\n",
        "plt.ylabel('코스피평균')\n",
        "plt.show()"
      ],
      "execution_count": null,
      "outputs": [
        {
          "output_type": "display_data",
          "data": {
            "image/png": "[encoded data removed]",
            "text/plain": [
              "<Figure size 432x288 with 1 Axes>"
            ]
          },
          "metadata": {
            "tags": [],
            "needs_background": "light"
          }
        }
      ]
    },
    {
      "cell_type": "code",
      "metadata": {
        "id": "YtSjspIX_gPC"
      },
      "source": [],
      "execution_count": null,
      "outputs": []
    }
  ]
}